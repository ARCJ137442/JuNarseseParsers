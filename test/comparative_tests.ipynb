{
 "cells": [
  {
   "cell_type": "markdown",
   "metadata": {},
   "source": [
    "# 对比性测试"
   ]
  },
  {
   "cell_type": "code",
   "execution_count": 1,
   "metadata": {},
   "outputs": [
    {
     "name": "stdout",
     "output_type": "stream",
     "text": [
      "\u001b[92m\u001b[1mJuNarsese v1.1.3\u001b[22m\u001b[39m\n"
     ]
    }
   ],
   "source": [
    "if !isdefined(Main, :JuNarsese)\n",
    "    push!(LOAD_PATH, \"../src\") # 用于直接打开（..上一级目录）\n",
    "    push!(LOAD_PATH, \"../../JuNarsese/\") # 用于直接打开（..上一级目录）\n",
    "    push!(LOAD_PATH, \"src\") # 用于VSCode调试（项目根目录起）\n",
    "    push!(LOAD_PATH, \"../JuNarsese/\") # 用于VSCode调试（项目根目录起）\n",
    "\n",
    "    # 自动导入JuNarsese模块\n",
    "    using JuNarsese\n",
    "    using JuNarseseParsers\n",
    "end"
   ]
  },
  {
   "cell_type": "markdown",
   "metadata": {},
   "source": [
    "## 测试集生成"
   ]
  },
  {
   "cell_type": "markdown",
   "metadata": {},
   "source": [
    "宏の辅助：自动生成if-elseif-else表达式"
   ]
  },
  {
   "cell_type": "code",
   "execution_count": 2,
   "metadata": {},
   "outputs": [
    {
     "name": "stdout",
     "output_type": "stream",
     "text": [
      "generate_ifelseif_expressions(0, d...) = quote\n",
      "    if 2\n",
      "        2\n",
      "    elseif 3\n",
      "        3\n",
      "    elseif 1\n",
      "        1\n",
      "    else\n",
      "        0\n",
      "    end\n",
      "end\n",
      "r = rand(1:4) = 4\n"
     ]
    },
    {
     "data": {
      "text/plain": [
       "4"
      ]
     },
     "metadata": {},
     "output_type": "display_data"
    }
   ],
   "source": [
    "\"\"\"\n",
    "自动生成if-elseif-else表达式\n",
    "使得其中的表达式只有在运行到时才会计算\n",
    "\n",
    "参数：\n",
    "- 元组：(条件, 内容)\n",
    "\"\"\"\n",
    "function generate_ifelseif_expressions(exprs::Vararg{Pair})\n",
    "    return generate_ifelseif_expressions(nothing, exprs...)\n",
    "end\n",
    "\n",
    "\"+默认情况\"\n",
    "function generate_ifelseif_expressions(default, exprs::Vararg{Pair})\n",
    "    blk::Expr = Expr(:block)\n",
    "    return generate_ifelseif_expressions!(blk, default, exprs...)\n",
    "end\n",
    "\n",
    "\"\"\"\n",
    "基于已有的:block表达式，附带默认情况\n",
    "\"\"\"\n",
    "function generate_ifelseif_expressions!(parent::Expr, default, exprs::Vararg{Pair})\n",
    "\n",
    "    current_args::Vector = parent.args\n",
    "    is_first::Bool = true\n",
    "    for expr_pair::Pair in exprs\n",
    "        push!(\n",
    "            current_args, \n",
    "            Expr(\n",
    "                is_first ? begin\n",
    "                    is_first = false\n",
    "                    :if\n",
    "                end : :elseif,\n",
    "                expr_pair.first, \n",
    "                expr_pair.second\n",
    "            )\n",
    "        )\n",
    "        current_args = current_args[end].args # 跳到if/elseif表达式的末尾\n",
    "    end\n",
    "\n",
    "    # 默认情况：增加else\n",
    "    !isnothing(default) && push!(\n",
    "        current_args, \n",
    "        default\n",
    "    )\n",
    "\n",
    "    return parent\n",
    "end\n",
    "\n",
    "\"\"\"\n",
    "基于已有的:block表达式\n",
    "\"\"\"\n",
    "function generate_ifelseif_expressions!(parent::Expr, exprs::Vararg{Pair})\n",
    "    generate_ifelseif_expressions!(parent, nothing, exprs...)\n",
    "end\n",
    "\n",
    "\"\"\"\n",
    "宏の形式\n",
    "注意：传入的每个Pair表达式都是`Expr(:call, :(=>), 前, 后)`的形式\n",
    "\"\"\"\n",
    "macro generate_ifelseif_expressions(default, exprs::Vararg{Expr})\n",
    "    # 直接获取第二、第三个参数\n",
    "    return generate_ifelseif_expressions(\n",
    "        default,\n",
    "        (\n",
    "            expr.args[2] => expr.args[3]\n",
    "            for expr in exprs\n",
    "        )...\n",
    "    ) |> esc\n",
    "end\n",
    "\n",
    "d = Dict(\n",
    "    1 => 1, 2 => 2, 3 => 3\n",
    ")\n",
    "\n",
    "@show generate_ifelseif_expressions(0, d...)\n",
    "\n",
    "@show r = rand(1:4)\n",
    "\n",
    "# 最多睡3秒\n",
    "@generate_ifelseif_expressions 4 (sleep(1);r==1) => 2 (sleep(1);r==2) => 3 (sleep(1);r==3) => 4"
   ]
  },
  {
   "cell_type": "code",
   "execution_count": 3,
   "metadata": {},
   "outputs": [],
   "source": [
    "\"\"\"\n",
    "宏的等价函数\n",
    "用于自动\n",
    "1. 构造随机数\n",
    "2. 生成`if-elseif-else`表达式\n",
    "\"\"\"\n",
    "function rand_macro(exprs...)::Union{Symbol, Expr}\n",
    "\n",
    "    # 预先计算表达式数量\n",
    "    n = length(exprs)\n",
    "\n",
    "    # 可能是封装到数组里面去了\n",
    "    if n == 1\n",
    "        exprs = exprs[1].args\n",
    "        n = length(exprs)\n",
    "    end\n",
    "\n",
    "    # 只有一个⇒优化：直接返回\n",
    "    if n == 1\n",
    "        return exprs[1] # 可能是Symbol\n",
    "    end\n",
    "    # @assert n > 1 \"随机选择至少需要两个备选结果\"\n",
    "\n",
    "    rand_variable::Symbol = Symbol(\":rand_n:\")\n",
    "\n",
    "    # 构造代码块\n",
    "    blk::Expr = Expr(\n",
    "        :block,\n",
    "        :(local $rand_variable = rand(1:$n))\n",
    "    )\n",
    "\n",
    "    return generate_ifelseif_expressions!(\n",
    "        blk,\n",
    "        (\n",
    "            :($rand_variable == $i) => expr\n",
    "            for (i, expr) in enumerate(exprs)\n",
    "        )...\n",
    "    )\n",
    "end\n",
    "\n",
    "\"\"\"\n",
    "一个用于随机选择代码执行的宏\n",
    "避免「在随机选择之前，预先计算出所有的备选结果」\n",
    "\"\"\"\n",
    "macro rand(exprs...)\n",
    "    rand_macro(exprs...) |> esc\n",
    "end\n",
    "\n",
    "# 最多睡一秒\n",
    "@rand sleep(0.5) sleep(0.75) sleep(1)"
   ]
  },
  {
   "cell_type": "markdown",
   "metadata": {},
   "source": [
    "随机词项发生器"
   ]
  },
  {
   "cell_type": "code",
   "execution_count": 32,
   "metadata": {},
   "outputs": [
    {
     "data": {
      "text/plain": [
       "<<<?xfbm <-> #vdc> ==> <$qaxpvvqge <-> #rcu>> <=> <^o --> $tgj>>"
      ]
     },
     "metadata": {},
     "output_type": "display_data"
    }
   ],
   "source": [
    "randstring(n) = *(rand(Char.(97:122), n)...)\n",
    "\n",
    "randomName() = randstring(rand(1:10))\n",
    "\n",
    "\"随机产生一个原子词项\"\n",
    "function randomAtom(depth = 0, width = 0)\n",
    "    type = @rand [\n",
    "        Word\n",
    "        IVar\n",
    "        DVar\n",
    "        QVar\n",
    "        Operator\n",
    "    ]\n",
    "    type(randomName())\n",
    "end\n",
    "\n",
    "\"随机产生一个陈述\"\n",
    "function randomStatement(depth = 5, width = 2)\n",
    "    return @rand [\n",
    "        randomTStatement(depth - 1, width)\n",
    "        randomSStatement(depth - 1, width)\n",
    "    ]\n",
    "end\n",
    "\n",
    "\"\"\"\n",
    "随机产生一个面向词项的陈述\n",
    "- 这里的陈述只能是「一等公民词项」\n",
    "    - 适配OpenJunars\n",
    "\"\"\"\n",
    "function randomTStatement(depth = 5, width = 2)\n",
    "    constructor = depth <= 0 ?\n",
    "        randomAtom : randomFOTerm\n",
    "    type = @rand [\n",
    "        Inheriance\n",
    "        Similarity\n",
    "    ]\n",
    "    type(constructor(depth - 1), constructor(depth - 1))\n",
    "end\n",
    "\n",
    "function randomSStatement(depth = 5, width = 2)\n",
    "    constructor = depth <= 0 ?\n",
    "        randomTStatement : randomStatement\n",
    "    type = @rand [\n",
    "        Implication\n",
    "        Equivalence\n",
    "    ]\n",
    "    type(constructor(depth - 1), constructor(depth - 1))\n",
    "end\n",
    "\n",
    "function randomImage(depth = 5, width = 2)\n",
    "    type = @rand [\n",
    "        ExtImage,\n",
    "        IntImage\n",
    "    ]\n",
    "    terms = [randomTerm(depth - 1,width) for _ in 1:rand(1:width)]\n",
    "    relation_index::Integer = rand(1:(length(terms)+1))\n",
    "    type(relation_index, terms...)\n",
    "end\n",
    "\n",
    "function randomTermSets(depth = 5, width = 2)\n",
    "    type = @rand [\n",
    "        TermProduct\n",
    "        ExtSet\n",
    "        IntSet\n",
    "        ExtIntersection\n",
    "        IntIntersection\n",
    "    ]\n",
    "    type((\n",
    "        randomTerm(depth - 1,width)\n",
    "        for _ in 1:rand(1:width)\n",
    "    )...)\n",
    "end\n",
    "\n",
    "\n",
    "\"随机产生一个复合词项\"\n",
    "function randomCompound(depth = 5, width = 5)\n",
    "    return @rand [\n",
    "        randomTermSet2s(depth - 1, width)\n",
    "        randomTermSets(depth - 1, width)\n",
    "        randomStatement(depth - 1, width)\n",
    "        randomImage(depth - 1, width)\n",
    "    ]\n",
    "end\n",
    "\n",
    "\"迁移自OpenJunars：「一等公民词项」=原子+复合，而非陈述\"\n",
    "function randomFOTerm(depth = 5, width = 5)\n",
    "    return @rand [\n",
    "        randomAtom(depth - 1, width)\n",
    "        randomCompound(depth - 1, width)\n",
    "    ]\n",
    "end\n",
    "\n",
    "\"\"\n",
    "function randomTermSet2s(depth = 5, width = 2)\n",
    "    type = @rand [\n",
    "        ExtDifference\n",
    "        IntDifference\n",
    "    ]\n",
    "    type(randomTerm(depth - 1), randomTerm(depth - 1))\n",
    "end\n",
    "\n",
    "\"\"\n",
    "function randomStatementSets(depth = 5, width = 2)\n",
    "    type = @rand [\n",
    "        Conjunction\n",
    "        Disjunction\n",
    "        ParConjunction\n",
    "        SeqConjunction\n",
    "    ]\n",
    "    type(randomStatement(depth - 1), randomStatement(depth - 1))\n",
    "end\n",
    "\n",
    "#=\n",
    "    IntDifference\n",
    "=#\n",
    "\n",
    "function randomTerm(depth=3, width=3)\n",
    "    depth <= 0 ?\n",
    "    randomAtom() : @rand [\n",
    "        randomCompound(depth-1, width)\n",
    "        # Negation(randomStatement(depth-1, width))\n",
    "        # randomAtom()\n",
    "    ]\n",
    "end\n",
    "\n",
    "randomTerm(5, 5)"
   ]
  },
  {
   "cell_type": "markdown",
   "metadata": {},
   "source": [
    "生成测试集"
   ]
  },
  {
   "cell_type": "code",
   "execution_count": 33,
   "metadata": {},
   "outputs": [
    {
     "name": "stdout",
     "output_type": "stream",
     "text": [
      "randomTerm(D, W) = (\\, _, (/, sbnahpxbe, ^ruhirivly, _, $nnwjrk, wzpsggef), <<#iqvqqxmln --> #sfqruv> <=> <^zdtbtekln <-> #fo>>, (/, ^ksxy, $ovl, #h, _, ^tntqem))\n"
     ]
    },
    {
     "data": {
      "text/plain": [
       "100-element Vector{AbstractCompound}:\n",
       " (&, <?buhiwv <-> $rfsatpmqt>, (&, drj, #x), (~, $mx, $ap), <<^zqjniucixz <-> $qyulfrtg> ==> <$txdcqyyqpg <-> $o>>, (/, _, nexkg, $dusmknal))\n",
       " (\\, _, (\\, _, ?oktfpluw), (~, ^oawdzvqzd, gvpaq))\n",
       " <<<msnnbvl <-> $zep> ==> <#lugde <-> #igznxd>> ==> <<$f --> ?iwf> <=> <vmrhvvqa <-> pt>>>\n",
       " (&, <<^htkvvkk --> kzpamyvym> ==> <jr <-> ^bnblj>>, <oxqg <-> ?zlekqa>)\n",
       " <pdal <-> (\\, csejkaex, #mwmyxhnwir, ^unj, _)>\n",
       " <^uhynts <-> ?tktu>\n",
       " <<#wpsrrlcj <-> $ylwyu> <=> <#wqeg <-> $uztkbkq>>\n",
       " (&, (/, _, ^pivsyythct, ^ytosr), <<^vjcto <-> ehhvt> <=> <#fk --> ^ycjc>>)\n",
       " (-, (-, sngyap, $skzlkxeep), {^shrbz, $bw})\n",
       " (~, (\\, $lihsmdzer, _, e, $feodbbi), (-, ?yfgwoismj, ?vcmswpcpg))\n",
       " ⋮\n",
       " (~, <kbus <-> ^qbelubpkwi>, (\\, #sfae, parushy, d, _))\n",
       " <clwbu <-> #dkgyxzsixx>\n",
       " (\\, _, (&, $jaydvvydea, #ibgk, sjz), <ynqwpx <-> #u>, (\\, ^vlel, ?oiwxjwoubs, $vuxwrf, $loreljl, ^knrsijakl, _), (~, $osrlhrse, ?hksf), (*, $qjtxhvhwq, ?ux, ?afh, ?rogmlgsw, llpn))\n",
       " (-, (\\, ^owjjivmfvq, ?lrxqen, _, m), (-, i, ?vwkxzf))\n",
       " (*, (\\, #tgvbptflsa, _, ^isgd, #hjkyzwtuw, ^funquurvz, axgpotyflm), (\\, ^ojbfefqcaa, $fyziyp, ?bobu, cpxjzfavnk, _), (-, ?blaophh, $vaa))\n",
       " (\\, _, <$dxajdc <-> ?x>, {$rrpm, srt}, (&, ^kxbcc, $iq), {#vbdfmij, ?vlgtnasrqr, ?ubnrvemlmy, ^hmwmnqywgs}, <#tnym --> ^v>)\n",
       " (-, (/, _, $ypujuse), (|, #r, $rvlu, icc))\n",
       " (*, (-, ^xrxkvjn, #dmjfiike), {#gcwpwjm, $mhd}, <#rtnhyqeqcd --> ^fbrne>, (~, sn, f), (~, ?kq, ?mozxeatp))\n",
       " <$ccohleip --> (\\, _, $lnxltsabw, ?stwwcpdyj, ^avuxj, $eq)>"
      ]
     },
     "metadata": {},
     "output_type": "display_data"
    }
   ],
   "source": [
    "# 生成测试集\n",
    "D = 5 # 嵌套深度\n",
    "W = 5 # 项数广度\n",
    "N = 100 # 词项数量\n",
    "\n",
    "# 展示一个\n",
    "@show randomTerm(D, W)\n",
    "\n",
    "test_terms = [\n",
    "    randomTerm(D, W)\n",
    "    for _ in 1:N\n",
    "]"
   ]
  },
  {
   "cell_type": "code",
   "execution_count": 34,
   "metadata": {},
   "outputs": [
    {
     "name": "stdout",
     "output_type": "stream",
     "text": [
      "test_strings = [\"(&, <?buhiwv <-> \\$rfsatpmqt>, (&, drj, #x), (~, \\$mx, \\$ap), <<^zqjniucixz <-> \\$qyulfrtg> ==> <\\$txdcqyyqpg <-> \\$o>>, (/, _, nexkg, \\$dusmknal))\", \"(\\\\, _, (\\\\, _, ?oktfpluw), (~, ^oawdzvqzd, gvpaq))\", \"<<<msnnbvl <-> \\$zep> ==> <#lugde <-> #igznxd>> ==> <<\\$f --> ?iwf> <=> <vmrhvvqa <-> pt>>>\", \"(&, <<^htkvvkk --> kzpamyvym> ==> <jr <-> ^bnblj>>, <oxqg <-> ?zlekqa>)\", \"<pdal <-> (\\\\, csejkaex, #mwmyxhnwir, ^unj, _)>\", \"<^uhynts <-> ?tktu>\", \"<<#wpsrrlcj <-> \\$ylwyu> <=> <#wqeg <-> \\$uztkbkq>>\", \"(&, (/, _, ^pivsyythct, ^ytosr), <<^vjcto <-> ehhvt> <=> <#fk --> ^ycjc>>)\", \"(-, (-, sngyap, \\$skzlkxeep), {^shrbz, \\$bw})\", \"(~, (\\\\, \\$lihsmdzer, _, e, \\$feodbbi), (-, ?yfgwoismj, ?vcmswpcpg))\", \"<(*, ?psynyy, #kirlillzo, ^bzjompa) --> {#otpnigsk}>\", \"(/, _, (/, ?hrpymkd, ^hlmrhxzyy, _), (/, _, ?byubvchr, ^o, ^hchrfz, #bhlnzgcqy), (&, #i, #lvx, #wguskvjw), (~, #dt, \\$o), (&, grhcs, \\$cjhgt, #etdu, ^m))\", \"<<<^jqxqmdo --> ^rgv> <=> <x <-> #dzhetvgr>> ==> <^sj <-> xjfh>>\", \"{<<kenqpaxbyt --> \\$bjg> ==> <?ut <-> \\$nskaii>>, {\\$pmxalmt, \\$u, ?ykugzw, #sfvztobov}}\", \"(~, (-, ?pjsjwcu, ?qgxquqv), (\\\\, atopatf, ^fjp, _))\", \"(\\\\, (*, ?kuwuilz, \\$fpbf), <<#w <-> ^zkguid> <=> <?uh --> \\$u>>, _, (\\\\, #la, _))\", \"(\\\\, <^blrrqw <-> ?rnlme>, (/, _, #xksea, \\$ddbrfs, hemoq, ^vpkv), <\\$lxtlrfpjc <-> \\$zxgnx>, (-, o, ?qrsopfonm), _)\", \"(\\\\, (~, ?fmzhjtpmok, ?mcem), (\\\\, \\$dfrdaevhx, _, \\$qfjfdhxorq, vy, #aipikcqqv, #amad), (~, urqqutm, ameddctn), (|, \\$psxj, \\$mdrlar, srbdnb), _)\", \"<?hffnkdpa --> vgbpqes>\", \"(-, (~, #s, #qtwvzy), (*, \\$ohiev))\", \"(-, (|, \\$osfoky, \\$xdzdqbdj), (/, _, ?xzb, ^o, \\$dmfwzv))\", \"(/, (\\\\, ?seuenivs, ?heigdu, \\$z, \\$yzpa, _), _, (*, arqwjzb, ^qsvgekpv, ?nigx, ^fedvcagfn))\", \"(/, _, (\\\\, #owhrri, _, \\$pgxzq, ^z, \\$h, ?i), (/, bkx, _, \\$ntkutydswf))\", \"{{\\$el, \\$auivm, \\$d}, (-, \\$zzay, \\$bwafly), (/, lyzjahmix, _), (~, ^e, pau), (&, #zzhzhbo)}\", \"(\\\\, _, (\\\\, \\$azmu, ^lgsoncu, _, #ekrqjtggn, #vuzk), {y, \\$euhoqcdvgq, ^vv})\", \"(~, (-, ^selpytge, ?afz), <<?yaumfjdiq --> \\$ycgecioeae> <=> <^wcoqyz --> #bbxbn>>)\", \"(/, (&, #erygpqxfew, #ks, s), _, (-, ?gvj, ?ezsyg), (-, #x, ?beq), <bibhhuspif <-> ^wmcc>)\", \"<<#ifrapisw <-> ?tvduzlxo> ==> <<^m --> \\$rwisdoqxtr> ==> <#mwvxbvd <-> \\$krpdx>>>\", \"[<<^fk <-> \\$q> <=> <?litfz <-> sjxdr>>, (\\\\, ?pfkrlnhi, _, ?pkper, \\$eftudjdycn, ^gsep)]\", \"(\\\\, (\\\\, _, ^ybnfw, ?pmswr, #ialhyph), _)\", \"(\\\\, _, (|, \\$q, #lkegslwh, ?exebqf, ^vwigfuwng), (~, ^pp, ?fqnhac), <?mzxuddu --> \\$bjtbh>)\", \"{(*, \\$eahkanxc, wte), (/, syihxk, _, #ralo, kiwihllvhk, ?nvsqxiae), (/, rpwrpbs, _, vsq, ?w, ?gyf), (*, ?uthlgnuumd, ?s, #zcbob, \\$eknsjkld, ^p)}\", \"(/, _, (~, ^uwacms, ?fnvvssugiv), (-, #elqqo, gh), (/, _, #worfpv, ?ncrejg, #cqbt))\", \"(~, (-, \\$bizvrsnost, #wl), (~, ?bxtxgyf, ?fvymw))\", \"(*, (~, \\$deakidom, ^pyrfrudh), (-, ?budyonjpb, ?mi), (\\\\, ij, _, \\$iz, ktrmf, vvkqv), (/, \\$iuly, ?bzzecpmxd, _, tdayexf), <#duguohwwn <-> #wmvvqosdjn>)\", \"(/, _, [\\$dod, #u], (/, #u, \\$krjtrn, _, xmihxewga, ?abvyhbdeji, \\$sdcyyhk), (\\\\, ?dlnyxgarsf, _, ^ebk), (~, #dnskygci, ?entxqo))\", \"(-, <\\$jhfp --> xycvx>, (-, ?yce, ^wwnuqdh))\", \"{(\\\\, #iwfrleck, #kbmb, ?erzqwm, _, \\$qvdnyjsnwt), <<^haeqz <-> ?absfuheqmz> ==> <#seezozm --> #ph>>, (~, rhztxo, ^pwt), (\\\\, #kvwtgdmbw, ?vecub, _), {#polwhpjaxg}}\", \"<\\$ivqgi --> #q>\", \"<<^cc <-> ?iftvdjhy> ==> <\\$hvljjls --> ^cpagr>>\", \"(/, (-, kiuw, #jgd), <?tthalytkq <-> ?ntfn>, (\\\\, _, ?zcwfict, ?hadcaav, #psxqgj), _)\", \"(-, (*, #vxkr, up), (~, #sulppzlbmi, \\$pvshjbri))\", \"(&, <miibv <-> ?u>, (/, ^od, ?mjbtzaml, \\$cya, _), (-, jxotwa, #nprfl))\", \"(*, (~, \\$yipazskg, ^vipnxfvgy), (/, _, ^vpgat), (-, yxtnebu, ^fzgdpdlc), <<#o --> \\$nzertbr> <=> <^rdng <-> ?qa>>, [?gpdxrqlsgq])\", \"(-, (/, \\$sbnllscxco, _), <^ycrev --> ?hssgmmo>)\", \"<^fb <-> (&, \\$te, ^hoiwnakcj, strtocoryi, #dkyczyqxzk, moteoly)>\", \"<(~, ^jfqvqlbgjx, #uwmdpz) --> (/, #lv, #d, ^hyyd, _, #qqwexvzt, ?okiknrgv)>\", \"(-, <<\\$uclaiuqi --> ^cfn> ==> <ha <-> ^xkrpvkolsi>>, {#usptlbath, #qwztdn})\", \"<<<?aruktuq --> ^zluzrjlurz> <=> <#xgv --> ^rftambfi>> <=> <\\$fet <-> #ia>>\", \"(-, (\\\\, ^abqofwn, ^zcbpafiw, ^znyfhimo, _), (&, mfppywi))\", \"(-, (~, #tber, ?zpgrdzrp), (&, ?skhbxk, ?tdfipnntv))\", \"[{uckypsbc, awhsujag}, (~, \\$obnoxu, ?vfxzoy), [^gj], (|, ?cvydybkykg, #ygyjpd, #dbfsebpsiu), <<?nrokydzqo --> ^qysmpm> ==> <^fxjjftprd --> #vovnl>>]\", \"(*, (|, ^l, #fupcmtd, #ia, obdyl), (\\\\, ikneovqv, ?busbj, _, ?xgpnqzf, #i), (-, ^tgyu, qgik), <#lrglydk --> \\$ddhvl>)\", \"(\\\\, {\\$cvgmv, ^ivrccvvs, #dkkongud, #pogtjnesi, m}, _, (\\\\, _, #rerez))\", \"[(&, ?blrlojghu), (~, \\$ci, #nkqqcufe), (/, ?olxrqf, _, \\$gptxrije), (*, ^nzgvqg, #c, ^lgxxnvw)]\", \"<<<?xptyxcyvg <-> #snuvnlqod> ==> <tircblyjyn --> ?vwuc>> <-> (/, _, ?qors)>\", \"(~, (-, ?kzwt, #qkd), <<#hqhkizrzy --> ?pixjslw> ==> <\\$xsmjdbzfdu --> \\$lxctrhjqpo>>)\", \"(-, (/, ^s, _, ?mfiqpmtyw), <<?llf <-> gigq> ==> <^eunlvucs <-> \\$zqccck>>)\", \"(&, (~, ?svxkdcng, ?svhhzsqd))\", \"<#bcdhxsg --> (~, #wwf, gerlywivj)>\", \"(/, _, (-, ^yyrdtiyqzk, ?qji))\", \"(\\\\, <atw <-> ^zjrxix>, <<\\$xxdhfqlkz --> \\$rxxwejq> <=> <?yjqehg --> ?ngzb>>, <^jd --> \\$zexqnalgbn>, <\\$gkemafk <-> vecfnwza>, _, (~, ^ntdrl, \\$kegjlurb))\", \"(/, (/, _, #pltaw, #wn), (/, \\$wqh, #wxhzzesd, _), _, (*, ^vcaympivxk, \\$ppbcdj, #biiqt, \\$nwjmxf, #eshjdt))\", \"<<?qsyqaiowb <-> ?gndhqogvy> ==> <<^fdcg <-> zzvjly> <=> <dzhegsbzrv --> \\$nieuhxnco>>>\", \"<<#mmesbcehop --> \\$ndwqyp> <=> <<?arjtkpfk <-> \\$xhvtlbrk> ==> <?vqbhsn <-> ^dghonpian>>>\", \"<<<kiuxievbfw --> \\$glnwghfqu> <=> <#njpudcig --> ^swdztn>> <=> <<#daxap --> #hr> ==> <\\$luyaagfa --> ?zpry>>>\", \"(~, <bhvawn <-> \\$nqzdn>, (*, \\$za))\", \"(~, (\\\\, ?buwrgoo, _, ^oek, ?ppqvefqial), <<gfncwbloin <-> \\$plnv> ==> <?njhpedxofv <-> \\$wg>>)\", \"<<<\\$n <-> eai> <=> <#kcur --> ^o>> ==> <<^ijyutnjjai --> \\$o> <=> <^ewsaxqbzyd <-> ^bvacw>>>\", \"(-, <#gcefc <-> #i>, (-, #nrzbovhqg, \\$jv))\", \"[<<hwufgyuau <-> ^ygcw> <=> <?v --> \\$mdjbzmmr>>, <<\\$linydlnzv <-> b> <=> <#n --> ?jtfcovzk>>, (-, \\$bsla, dffjafkw), (~, \\$lxxm, jamykulsn)]\", \"{<<?brpvmp --> \\$rrtoljk> ==> <#plep <-> ^cmbynilury>>, (/, uwgwt, _, mgnm, \\$awwny)}\", \"(\\\\, {#wuunvsblz, mufxlzlmm}, [^irsf, \\$wwfxa, mdbfuy, \\$hfstspkfxd, lyzgsohrl], _, (\\\\, _, ^rf, zixkc, #yqfkmo))\", \"[<<^cer <-> #nxettwbzc> ==> <\\$sjrysuqo --> ^vlpvqkehro>>, (-, ^xpqt, \\$zxgbt), (*, \\$nmlfsbwhaz, ucqjhsdhao, ^tcqgfwlxi, #boo, #ogxhu)]\", \"<^rlbrwbdefv <-> (~, ^fleczlkc, rgenxewjnv)>\", \"(~, (-, ?eemysziwsy, ?envxjwjx), <cucxbt --> tpsl>)\", \"(\\\\, (/, ?kkskmw, ^xlr, _), (&, #mgr), _, <<?ciffehkezq <-> owo> ==> <kz <-> #praxaijust>>)\", \"(~, (/, _, \\$gdv, ctbqndbljj, ^sayie), [^u, \\$wpx, ^r])\", \"(\\\\, (~, ?gxhirl, \\$tk), _, <<?eyloy --> ?yhzzity> <=> <javkrk --> gox>>, <mztpfj <-> ^h>)\", \"(~, (-, \\$ekjbnwor, #qc), (/, ^bjua, _, ?qecyqs))\", \"<(-, ^vvhsfhy, #odstc) --> ?rle>\", \"(\\\\, (&, ^nbnigpgroz, #zektgpiy, \\$d), _)\", \"<(-, hwatfm, ^ytacsbejs) <-> odrmfxoz>\", \"[(\\\\, ^rp, _, kn, ^xfdfsmlnnu, ^liwhehmg, \\$mx), (-, jualqbgc, ?uqmrcyun), (-, #hjjpdz, \\$ghet), (~, ^ezgbcg, \\$dlkir), (|, ?oz, #mdywmmsuk, ^i, #zjje, \\$a)]\", \"<<<^gaakais <-> \\$shsbefe> ==> <\\$qkj <-> #um>> ==> <<\\$zku --> ?hn> ==> <\\$ffi <-> ?wgsioqv>>>\", \"{(|, ?x, ?zqi, vya, \\$fgxenun, iqajmsjz), (-, \\$idtx, ?ladmreb), (~, ^qcwrslns, #bbaagm)}\", \"(/, (-, wsqpsfzl, ^lqtaxf), _, <<#zvheyutyes <-> \\$ysixape> <=> <^eh <-> bafawgysp>>, (|, #kzndkrxw, #y, \\$okzgax), (*, #uyyncl, prneq, ?ucadjh, ^coh), (-, \\$lmotkfcrpq, \\$aea))\", \"<(\\\\, #tkag, ?sdncyel, beqgexep, ^bw, _) --> <?nxqchqp <-> ^crlhljiuk>>\", \"<(-, pbatkt, ?z) <-> #rwquralqyh>\", \"(\\\\, _, (-, #ylnt, wfbfw))\", \"(~, (~, #hwbylwd, #ivfxh), (-, ^pulst, ^guhnkzrhkd))\", \"(~, <kbus <-> ^qbelubpkwi>, (\\\\, #sfae, parushy, d, _))\", \"<clwbu <-> #dkgyxzsixx>\", \"(\\\\, _, (&, \\$jaydvvydea, #ibgk, sjz), <ynqwpx <-> #u>, (\\\\, ^vlel, ?oiwxjwoubs, \\$vuxwrf, \\$loreljl, ^knrsijakl, _), (~, \\$osrlhrse, ?hksf), (*, \\$qjtxhvhwq, ?ux, ?afh, ?rogmlgsw, llpn))\", \"(-, (\\\\, ^owjjivmfvq, ?lrxqen, _, m), (-, i, ?vwkxzf))\", \"(*, (\\\\, #tgvbptflsa, _, ^isgd, #hjkyzwtuw, ^funquurvz, axgpotyflm), (\\\\, ^ojbfefqcaa, \\$fyziyp, ?bobu, cpxjzfavnk, _), (-, ?blaophh, \\$vaa))\", \"(\\\\, _, <\\$dxajdc <-> ?x>, {\\$rrpm, srt}, (&, ^kxbcc, \\$iq), {#vbdfmij, ?vlgtnasrqr, ?ubnrvemlmy, ^hmwmnqywgs}, <#tnym --> ^v>)\", \"(-, (/, _, \\$ypujuse), (|, #r, \\$rvlu, icc))\", \"(*, (-, ^xrxkvjn, #dmjfiike), {#gcwpwjm, \\$mhd}, <#rtnhyqeqcd --> ^fbrne>, (~, sn, f), (~, ?kq, ?mozxeatp))\", \"<\\$ccohleip --> (\\\\, _, \\$lnxltsabw, ?stwwcpdyj, ^avuxj, \\$eq)>\"]\n"
     ]
    },
    {
     "data": {
      "text/plain": [
       "100-element Vector{String}:\n",
       " \"(&, <?buhiwv <-> \\$rfsatpmqt>, (\" ⋯ 78 bytes ⋯ \"\\$o>>, (/, _, nexkg, \\$dusmknal))\"\n",
       " \"(\\\\, _, (\\\\, _, ?oktfpluw), (~, ^oawdzvqzd, gvpaq))\"\n",
       " \"<<<msnnbvl <-> \\$zep> ==> <#lugd\" ⋯ 27 bytes ⋯ \"> ?iwf> <=> <vmrhvvqa <-> pt>>>\"\n",
       " \"(&, <<^htkvvkk --> kzpamyvym> ==> <jr <-> ^bnblj>>, <oxqg <-> ?zlekqa>)\"\n",
       " \"<pdal <-> (\\\\, csejkaex, #mwmyxhnwir, ^unj, _)>\"\n",
       " \"<^uhynts <-> ?tktu>\"\n",
       " \"<<#wpsrrlcj <-> \\$ylwyu> <=> <#wqeg <-> \\$uztkbkq>>\"\n",
       " \"(&, (/, _, ^pivsyythct, ^ytosr), <<^vjcto <-> ehhvt> <=> <#fk --> ^ycjc>>)\"\n",
       " \"(-, (-, sngyap, \\$skzlkxeep), {^shrbz, \\$bw})\"\n",
       " \"(~, (\\\\, \\$lihsmdzer, _, e, \\$feodbbi), (-, ?yfgwoismj, ?vcmswpcpg))\"\n",
       " ⋮\n",
       " \"(~, <kbus <-> ^qbelubpkwi>, (\\\\, #sfae, parushy, d, _))\"\n",
       " \"<clwbu <-> #dkgyxzsixx>\"\n",
       " \"(\\\\, _, (&, \\$jaydvvydea, #ibgk, \" ⋯ 119 bytes ⋯ \", ?ux, ?afh, ?rogmlgsw, llpn))\"\n",
       " \"(-, (\\\\, ^owjjivmfvq, ?lrxqen, _, m), (-, i, ?vwkxzf))\"\n",
       " \"(*, (\\\\, #tgvbptflsa, _, ^isgd, \" ⋯ 75 bytes ⋯ \"favnk, _), (-, ?blaophh, \\$vaa))\"\n",
       " \"(\\\\, _, <\\$dxajdc <-> ?x>, {\\$rrpm\" ⋯ 61 bytes ⋯ \", ^hmwmnqywgs}, <#tnym --> ^v>)\"\n",
       " \"(-, (/, _, \\$ypujuse), (|, #r, \\$rvlu, icc))\"\n",
       " \"(*, (-, ^xrxkvjn, #dmjfiike), {\" ⋯ 44 bytes ⋯ \"~, sn, f), (~, ?kq, ?mozxeatp))\"\n",
       " \"<\\$ccohleip --> (\\\\, _, \\$lnxltsabw, ?stwwcpdyj, ^avuxj, \\$eq)>\""
      ]
     },
     "metadata": {},
     "output_type": "display_data"
    }
   ],
   "source": [
    "test_strings = test_terms .|> string\n",
    "@show test_strings"
   ]
  },
  {
   "cell_type": "markdown",
   "metadata": {},
   "source": [
    "## 评估函数"
   ]
  },
  {
   "cell_type": "markdown",
   "metadata": {},
   "source": [
    "导入数据分析工具：DataFrames"
   ]
  },
  {
   "cell_type": "code",
   "execution_count": 35,
   "metadata": {},
   "outputs": [],
   "source": [
    "using DataFrames"
   ]
  },
  {
   "cell_type": "markdown",
   "metadata": {},
   "source": [
    "构造评估函数"
   ]
  },
  {
   "cell_type": "code",
   "execution_count": 36,
   "metadata": {},
   "outputs": [
    {
     "data": {
      "text/html": [
       "<div><div style = \"float: left;\"><span>1×4 DataFrame</span></div><div style = \"clear: both;\"></div></div><div class = \"data-frame\" style = \"overflow-x: scroll;\"><table class = \"data-frame\" style = \"margin-bottom: 6px;\"><thead><tr class = \"header\"><th class = \"rowNumber\" style = \"font-weight: bold; text-align: right;\">Row</th><th style = \"text-align: left;\">string</th><th style = \"text-align: left;\">parsed</th><th style = \"text-align: left;\">time</th><th style = \"text-align: left;\">error</th></tr><tr class = \"subheader headerLastRow\"><th class = \"rowNumber\" style = \"font-weight: bold; text-align: right;\"></th><th title = \"String\" style = \"text-align: left;\">String</th><th title = \"Any\" style = \"text-align: left;\">Any</th><th title = \"Float64\" style = \"text-align: left;\">Float64</th><th title = \"Union{Missing, Exception}\" style = \"text-align: left;\">Exception?</th></tr></thead><tbody><tr><td class = \"rowNumber\" style = \"font-weight: bold; text-align: right;\">1</td><td style = \"text-align: left;\">1</td><td style = \"text-align: left;\">1</td><td style = \"text-align: right;\">0.0</td><td style = \"font-style: italic; text-align: left;\">missing</td></tr></tbody></table></div>"
      ],
      "text/latex": [
       "\\begin{tabular}{r|cccc}\n",
       "\t& string & parsed & time & error\\\\\n",
       "\t\\hline\n",
       "\t& String & Any & Float64 & Exception?\\\\\n",
       "\t\\hline\n",
       "\t1 & 1 & 1 & 0.0 & \\emph{missing} \\\\\n",
       "\\end{tabular}\n"
      ],
      "text/plain": [
       "\u001b[1m1×4 DataFrame\u001b[0m\n",
       "\u001b[1m Row \u001b[0m│\u001b[1m string \u001b[0m\u001b[1m parsed \u001b[0m\u001b[1m time    \u001b[0m\u001b[1m error      \u001b[0m\n",
       "     │\u001b[90m String \u001b[0m\u001b[90m Any    \u001b[0m\u001b[90m Float64 \u001b[0m\u001b[90m Exception? \u001b[0m\n",
       "─────┼─────────────────────────────────────\n",
       "   1 │ 1       1           0.0 \u001b[90m missing    \u001b[0m"
      ]
     },
     "metadata": {},
     "output_type": "display_data"
    }
   ],
   "source": [
    "d = DataFrame(\n",
    "    string = Vector{String}(),\n",
    "    parsed = Vector{Any}(),\n",
    "    time = Vector{Float64}(),\n",
    "    error = Vector{Union{Exception, Missing}}()\n",
    ")\n",
    "\n",
    "push!(\n",
    "    d,\n",
    "    (\n",
    "        string = \"1\",#test_strings[i],\n",
    "        parsed = \"1\",#parse(test_strings[i]),\n",
    "        time = 0.0,\n",
    "        error = missing\n",
    "    )\n",
    ")"
   ]
  },
  {
   "cell_type": "code",
   "execution_count": 99,
   "metadata": {},
   "outputs": [
    {
     "data": {
      "text/plain": [
       "testParser"
      ]
     },
     "metadata": {},
     "output_type": "display_data"
    }
   ],
   "source": [
    "\"\"\"\n",
    "构造一个测试解析器的函数，\n",
    "输入解析器、测试集、测试次数，\n",
    "输出解析结果、每次解析的耗时时长、总时长和总平均时长\n",
    "\"\"\"\n",
    "function testParser(parser, test_strings, n = 100)\n",
    "\n",
    "    # datas\n",
    "    datas::DataFrame = DataFrame(\n",
    "        string = Vector{String}(),\n",
    "        parsed = Vector{Union{Any, Missing}}(),\n",
    "        time = Vector{Union{Float64, Missing}}(),\n",
    "        error = Vector{Union{Exception, Missing}}()\n",
    "    )\n",
    "\n",
    "    # 重复n次解析，每次解析一批\n",
    "    for _ in 1:n\n",
    "        for term_string in test_strings\n",
    "            try\n",
    "                # 解析&计时\n",
    "                parse_time = @elapsed (\n",
    "                    parsed_term = parser(term_string)\n",
    "                )\n",
    "                # 存储数据\n",
    "                push!(\n",
    "                    datas,\n",
    "                    (\n",
    "                        string = term_string,\n",
    "                        parsed = parsed_term,\n",
    "                        time = parse_time,\n",
    "                        error = missing\n",
    "                    )\n",
    "                )\n",
    "            catch e\n",
    "                # @error \"已跳过解析错误的项，错误信息为：\" term_string e\n",
    "                # 记录错误\n",
    "                push!(\n",
    "                    datas,\n",
    "                    (\n",
    "                        string = term_string,\n",
    "                        parsed = missing,\n",
    "                        time = missing,\n",
    "                        error = e\n",
    "                    )\n",
    "                )\n",
    "            end\n",
    "        end\n",
    "    end\n",
    "    \n",
    "    # 根据errors汇报错误\n",
    "    errors = filter(!ismissing, d.error)\n",
    "    if length(errors) > 0\n",
    "        @error \"以下$(length(errors))项解析错误：\" errors\n",
    "    end\n",
    "\n",
    "    # 返回结果\n",
    "    return datas\n",
    "end"
   ]
  },
  {
   "cell_type": "markdown",
   "metadata": {},
   "source": [
    "试运行"
   ]
  },
  {
   "cell_type": "code",
   "execution_count": 100,
   "metadata": {},
   "outputs": [
    {
     "data": {
      "text/html": [
       "<div><div style = \"float: left;\"><span>10000×4 DataFrame</span></div><div style = \"float: right;\"><span style = \"font-style: italic;\">9975 rows omitted</span></div><div style = \"clear: both;\"></div></div><div class = \"data-frame\" style = \"overflow-x: scroll;\"><table class = \"data-frame\" style = \"margin-bottom: 6px;\"><thead><tr class = \"header\"><th class = \"rowNumber\" style = \"font-weight: bold; text-align: right;\">Row</th><th style = \"text-align: left;\">string</th><th style = \"text-align: left;\">parsed</th><th style = \"text-align: left;\">time</th><th style = \"text-align: left;\">error</th></tr><tr class = \"subheader headerLastRow\"><th class = \"rowNumber\" style = \"font-weight: bold; text-align: right;\"></th><th title = \"String\" style = \"text-align: left;\">String</th><th title = \"Any\" style = \"text-align: left;\">Any</th><th title = \"Union{Missing, Float64}\" style = \"text-align: left;\">Float64?</th><th title = \"Union{Missing, Exception}\" style = \"text-align: left;\">Exception?</th></tr></thead><tbody><tr><td class = \"rowNumber\" style = \"font-weight: bold; text-align: right;\">1</td><td style = \"text-align: left;\">(&amp;, &lt;?buhiwv &lt;-&gt; $rfsatpmqt&gt;, (&amp;, drj, #x), (~, $mx, $ap), &lt;&lt;^zqjniucixz &lt;-&gt; $qyulfrtg&gt; ==&gt; &lt;$txdcqyyqpg &lt;-&gt; $o&gt;&gt;, (/, _, nexkg, $dusmknal))</td><td style = \"text-align: left;\">(&amp;, (/, _, nexkg, $dusmknal), (&amp;, drj, #x), &lt;&lt;^zqjniucixz &lt;-&gt; $qyulfrtg&gt; ==&gt; &lt;$txdcqyyqpg &lt;-&gt; $o&gt;&gt;, (~, $mx, $ap), &lt;?buhiwv &lt;-&gt; $rfsatpmqt&gt;)</td><td style = \"text-align: right;\">0.0002873</td><td style = \"font-style: italic; text-align: left;\">missing</td></tr><tr><td class = \"rowNumber\" style = \"font-weight: bold; text-align: right;\">2</td><td style = \"text-align: left;\">(\\\\, _, (\\\\, _, ?oktfpluw), (~, ^oawdzvqzd, gvpaq))</td><td style = \"text-align: left;\">(\\\\, _, (\\\\, _, ?oktfpluw), (~, ^oawdzvqzd, gvpaq))</td><td style = \"text-align: right;\">0.0001086</td><td style = \"font-style: italic; text-align: left;\">missing</td></tr><tr><td class = \"rowNumber\" style = \"font-weight: bold; text-align: right;\">3</td><td style = \"text-align: left;\">&lt;&lt;&lt;msnnbvl &lt;-&gt; $zep&gt; ==&gt; &lt;#lugde &lt;-&gt; #igznxd&gt;&gt; ==&gt; &lt;&lt;$f --&gt; ?iwf&gt; &lt;=&gt; &lt;vmrhvvqa &lt;-&gt; pt&gt;&gt;&gt;</td><td style = \"text-align: left;\">&lt;&lt;&lt;msnnbvl &lt;-&gt; $zep&gt; ==&gt; &lt;#lugde &lt;-&gt; #igznxd&gt;&gt; ==&gt; &lt;&lt;$f --&gt; ?iwf&gt; &lt;=&gt; &lt;vmrhvvqa &lt;-&gt; pt&gt;&gt;&gt;</td><td style = \"text-align: right;\">0.0001159</td><td style = \"font-style: italic; text-align: left;\">missing</td></tr><tr><td class = \"rowNumber\" style = \"font-weight: bold; text-align: right;\">4</td><td style = \"text-align: left;\">(&amp;, &lt;&lt;^htkvvkk --&gt; kzpamyvym&gt; ==&gt; &lt;jr &lt;-&gt; ^bnblj&gt;&gt;, &lt;oxqg &lt;-&gt; ?zlekqa&gt;)</td><td style = \"text-align: left;\">(&amp;, &lt;&lt;^htkvvkk --&gt; kzpamyvym&gt; ==&gt; &lt;jr &lt;-&gt; ^bnblj&gt;&gt;, &lt;oxqg &lt;-&gt; ?zlekqa&gt;)</td><td style = \"text-align: right;\">8.23e-5</td><td style = \"font-style: italic; text-align: left;\">missing</td></tr><tr><td class = \"rowNumber\" style = \"font-weight: bold; text-align: right;\">5</td><td style = \"text-align: left;\">&lt;pdal &lt;-&gt; (\\\\, csejkaex, #mwmyxhnwir, ^unj, _)&gt;</td><td style = \"text-align: left;\">&lt;pdal &lt;-&gt; (\\\\, csejkaex, #mwmyxhnwir, ^unj, _)&gt;</td><td style = \"text-align: right;\">3.87e-5</td><td style = \"font-style: italic; text-align: left;\">missing</td></tr><tr><td class = \"rowNumber\" style = \"font-weight: bold; text-align: right;\">6</td><td style = \"text-align: left;\">&lt;^uhynts &lt;-&gt; ?tktu&gt;</td><td style = \"text-align: left;\">&lt;^uhynts &lt;-&gt; ?tktu&gt;</td><td style = \"text-align: right;\">1.38e-5</td><td style = \"font-style: italic; text-align: left;\">missing</td></tr><tr><td class = \"rowNumber\" style = \"font-weight: bold; text-align: right;\">7</td><td style = \"text-align: left;\">&lt;&lt;#wpsrrlcj &lt;-&gt; $ylwyu&gt; &lt;=&gt; &lt;#wqeg &lt;-&gt; $uztkbkq&gt;&gt;</td><td style = \"text-align: left;\">&lt;&lt;#wpsrrlcj &lt;-&gt; $ylwyu&gt; &lt;=&gt; &lt;#wqeg &lt;-&gt; $uztkbkq&gt;&gt;</td><td style = \"text-align: right;\">3.95e-5</td><td style = \"font-style: italic; text-align: left;\">missing</td></tr><tr><td class = \"rowNumber\" style = \"font-weight: bold; text-align: right;\">8</td><td style = \"text-align: left;\">(&amp;, (/, _, ^pivsyythct, ^ytosr), &lt;&lt;^vjcto &lt;-&gt; ehhvt&gt; &lt;=&gt; &lt;#fk --&gt; ^ycjc&gt;&gt;)</td><td style = \"text-align: left;\">(&amp;, (/, _, ^pivsyythct, ^ytosr), &lt;&lt;^vjcto &lt;-&gt; ehhvt&gt; &lt;=&gt; &lt;#fk --&gt; ^ycjc&gt;&gt;)</td><td style = \"text-align: right;\">7.16e-5</td><td style = \"font-style: italic; text-align: left;\">missing</td></tr><tr><td class = \"rowNumber\" style = \"font-weight: bold; text-align: right;\">9</td><td style = \"text-align: left;\">(-, (-, sngyap, $skzlkxeep), {^shrbz, $bw})</td><td style = \"text-align: left;\">(-, (-, sngyap, $skzlkxeep), {^shrbz, $bw})</td><td style = \"text-align: right;\">5.56e-5</td><td style = \"font-style: italic; text-align: left;\">missing</td></tr><tr><td class = \"rowNumber\" style = \"font-weight: bold; text-align: right;\">10</td><td style = \"text-align: left;\">(~, (\\\\, $lihsmdzer, _, e, $feodbbi), (-, ?yfgwoismj, ?vcmswpcpg))</td><td style = \"text-align: left;\">(~, (\\\\, $lihsmdzer, _, e, $feodbbi), (-, ?yfgwoismj, ?vcmswpcpg))</td><td style = \"text-align: right;\">5.03e-5</td><td style = \"font-style: italic; text-align: left;\">missing</td></tr><tr><td class = \"rowNumber\" style = \"font-weight: bold; text-align: right;\">11</td><td style = \"text-align: left;\">&lt;(*, ?psynyy, #kirlillzo, ^bzjompa) --&gt; {#otpnigsk}&gt;</td><td style = \"text-align: left;\">&lt;(*, ?psynyy, #kirlillzo, ^bzjompa) --&gt; {#otpnigsk}&gt;</td><td style = \"text-align: right;\">6.08e-5</td><td style = \"font-style: italic; text-align: left;\">missing</td></tr><tr><td class = \"rowNumber\" style = \"font-weight: bold; text-align: right;\">12</td><td style = \"text-align: left;\">(/, _, (/, ?hrpymkd, ^hlmrhxzyy, _), (/, _, ?byubvchr, ^o, ^hchrfz, #bhlnzgcqy), (&amp;, #i, #lvx, #wguskvjw), (~, #dt, $o), (&amp;, grhcs, $cjhgt, #etdu, ^m))</td><td style = \"text-align: left;\">(/, _, (/, ?hrpymkd, ^hlmrhxzyy, _), (/, _, ?byubvchr, ^o, ^hchrfz, #bhlnzgcqy), (&amp;, #i, #lvx, #wguskvjw), (~, #dt, $o), (&amp;, grhcs, $cjhgt, #etdu, ^m))</td><td style = \"text-align: right;\">0.0001216</td><td style = \"font-style: italic; text-align: left;\">missing</td></tr><tr><td class = \"rowNumber\" style = \"font-weight: bold; text-align: right;\">13</td><td style = \"text-align: left;\">&lt;&lt;&lt;^jqxqmdo --&gt; ^rgv&gt; &lt;=&gt; &lt;x &lt;-&gt; #dzhetvgr&gt;&gt; ==&gt; &lt;^sj &lt;-&gt; xjfh&gt;&gt;</td><td style = \"text-align: left;\">&lt;&lt;&lt;^jqxqmdo --&gt; ^rgv&gt; &lt;=&gt; &lt;x &lt;-&gt; #dzhetvgr&gt;&gt; ==&gt; &lt;^sj &lt;-&gt; xjfh&gt;&gt;</td><td style = \"text-align: right;\">6.15e-5</td><td style = \"font-style: italic; text-align: left;\">missing</td></tr><tr><td style = \"text-align: right;\">&vellip;</td><td style = \"text-align: right;\">&vellip;</td><td style = \"text-align: right;\">&vellip;</td><td style = \"text-align: right;\">&vellip;</td><td style = \"text-align: right;\">&vellip;</td></tr><tr><td class = \"rowNumber\" style = \"font-weight: bold; text-align: right;\">9989</td><td style = \"text-align: left;\">&lt;(-, pbatkt, ?z) &lt;-&gt; #rwquralqyh&gt;</td><td style = \"text-align: left;\">&lt;(-, pbatkt, ?z) &lt;-&gt; #rwquralqyh&gt;</td><td style = \"text-align: right;\">2.67e-5</td><td style = \"font-style: italic; text-align: left;\">missing</td></tr><tr><td class = \"rowNumber\" style = \"font-weight: bold; text-align: right;\">9990</td><td style = \"text-align: left;\">(\\\\, _, (-, #ylnt, wfbfw))</td><td style = \"text-align: left;\">(\\\\, _, (-, #ylnt, wfbfw))</td><td style = \"text-align: right;\">2.2e-5</td><td style = \"font-style: italic; text-align: left;\">missing</td></tr><tr><td class = \"rowNumber\" style = \"font-weight: bold; text-align: right;\">9991</td><td style = \"text-align: left;\">(~, (~, #hwbylwd, #ivfxh), (-, ^pulst, ^guhnkzrhkd))</td><td style = \"text-align: left;\">(~, (~, #hwbylwd, #ivfxh), (-, ^pulst, ^guhnkzrhkd))</td><td style = \"text-align: right;\">3.75e-5</td><td style = \"font-style: italic; text-align: left;\">missing</td></tr><tr><td class = \"rowNumber\" style = \"font-weight: bold; text-align: right;\">9992</td><td style = \"text-align: left;\">(~, &lt;kbus &lt;-&gt; ^qbelubpkwi&gt;, (\\\\, #sfae, parushy, d, _))</td><td style = \"text-align: left;\">(~, &lt;kbus &lt;-&gt; ^qbelubpkwi&gt;, (\\\\, #sfae, parushy, d, _))</td><td style = \"text-align: right;\">4.72e-5</td><td style = \"font-style: italic; text-align: left;\">missing</td></tr><tr><td class = \"rowNumber\" style = \"font-weight: bold; text-align: right;\">9993</td><td style = \"text-align: left;\">&lt;clwbu &lt;-&gt; #dkgyxzsixx&gt;</td><td style = \"text-align: left;\">&lt;clwbu &lt;-&gt; #dkgyxzsixx&gt;</td><td style = \"text-align: right;\">1.41e-5</td><td style = \"font-style: italic; text-align: left;\">missing</td></tr><tr><td class = \"rowNumber\" style = \"font-weight: bold; text-align: right;\">9994</td><td style = \"text-align: left;\">(\\\\, _, (&amp;, $jaydvvydea, #ibgk, sjz), &lt;ynqwpx &lt;-&gt; #u&gt;, (\\\\, ^vlel, ?oiwxjwoubs, $vuxwrf, $loreljl, ^knrsijakl, _), (~, $osrlhrse, ?hksf), (*, $qjtxhvhwq, ?ux, ?afh, ?rogmlgsw, llpn))</td><td style = \"text-align: left;\">(\\\\, _, (&amp;, $jaydvvydea, #ibgk, sjz), &lt;ynqwpx &lt;-&gt; #u&gt;, (\\\\, ^vlel, ?oiwxjwoubs, $vuxwrf, $loreljl, ^knrsijakl, _), (~, $osrlhrse, ?hksf), (*, $qjtxhvhwq, ?ux, ?afh, ?rogmlgsw, llpn))</td><td style = \"text-align: right;\">0.0001311</td><td style = \"font-style: italic; text-align: left;\">missing</td></tr><tr><td class = \"rowNumber\" style = \"font-weight: bold; text-align: right;\">9995</td><td style = \"text-align: left;\">(-, (\\\\, ^owjjivmfvq, ?lrxqen, _, m), (-, i, ?vwkxzf))</td><td style = \"text-align: left;\">(-, (\\\\, ^owjjivmfvq, ?lrxqen, _, m), (-, i, ?vwkxzf))</td><td style = \"text-align: right;\">4.32e-5</td><td style = \"font-style: italic; text-align: left;\">missing</td></tr><tr><td class = \"rowNumber\" style = \"font-weight: bold; text-align: right;\">9996</td><td style = \"text-align: left;\">(*, (\\\\, #tgvbptflsa, _, ^isgd, #hjkyzwtuw, ^funquurvz, axgpotyflm), (\\\\, ^ojbfefqcaa, $fyziyp, ?bobu, cpxjzfavnk, _), (-, ?blaophh, $vaa))</td><td style = \"text-align: left;\">(*, (\\\\, #tgvbptflsa, _, ^isgd, #hjkyzwtuw, ^funquurvz, axgpotyflm), (\\\\, ^ojbfefqcaa, $fyziyp, ?bobu, cpxjzfavnk, _), (-, ?blaophh, $vaa))</td><td style = \"text-align: right;\">9.15e-5</td><td style = \"font-style: italic; text-align: left;\">missing</td></tr><tr><td class = \"rowNumber\" style = \"font-weight: bold; text-align: right;\">9997</td><td style = \"text-align: left;\">(\\\\, _, &lt;$dxajdc &lt;-&gt; ?x&gt;, {$rrpm, srt}, (&amp;, ^kxbcc, $iq), {#vbdfmij, ?vlgtnasrqr, ?ubnrvemlmy, ^hmwmnqywgs}, &lt;#tnym --&gt; ^v&gt;)</td><td style = \"text-align: left;\">(\\\\, _, &lt;$dxajdc &lt;-&gt; ?x&gt;, {$rrpm, srt}, (&amp;, ^kxbcc, $iq), {#vbdfmij, ?vlgtnasrqr, ?ubnrvemlmy, ^hmwmnqywgs}, &lt;#tnym --&gt; ^v&gt;)</td><td style = \"text-align: right;\">0.0001072</td><td style = \"font-style: italic; text-align: left;\">missing</td></tr><tr><td class = \"rowNumber\" style = \"font-weight: bold; text-align: right;\">9998</td><td style = \"text-align: left;\">(-, (/, _, $ypujuse), (|, #r, $rvlu, icc))</td><td style = \"text-align: left;\">(-, (/, _, $ypujuse), (|, #r, $rvlu, icc))</td><td style = \"text-align: right;\">4.12e-5</td><td style = \"font-style: italic; text-align: left;\">missing</td></tr><tr><td class = \"rowNumber\" style = \"font-weight: bold; text-align: right;\">9999</td><td style = \"text-align: left;\">(*, (-, ^xrxkvjn, #dmjfiike), {#gcwpwjm, $mhd}, &lt;#rtnhyqeqcd --&gt; ^fbrne&gt;, (~, sn, f), (~, ?kq, ?mozxeatp))</td><td style = \"text-align: left;\">(*, (-, ^xrxkvjn, #dmjfiike), {#gcwpwjm, $mhd}, &lt;#rtnhyqeqcd --&gt; ^fbrne&gt;, (~, sn, f), (~, ?kq, ?mozxeatp))</td><td style = \"text-align: right;\">9.12e-5</td><td style = \"font-style: italic; text-align: left;\">missing</td></tr><tr><td class = \"rowNumber\" style = \"font-weight: bold; text-align: right;\">10000</td><td style = \"text-align: left;\">&lt;$ccohleip --&gt; (\\\\, _, $lnxltsabw, ?stwwcpdyj, ^avuxj, $eq)&gt;</td><td style = \"text-align: left;\">&lt;$ccohleip --&gt; (\\\\, _, $lnxltsabw, ?stwwcpdyj, ^avuxj, $eq)&gt;</td><td style = \"text-align: right;\">4.35e-5</td><td style = \"font-style: italic; text-align: left;\">missing</td></tr></tbody></table></div>"
      ],
      "text/latex": [
       "\\begin{tabular}{r|cc}\n",
       "\t& string & \\\\\n",
       "\t\\hline\n",
       "\t& String & \\\\\n",
       "\t\\hline\n",
       "\t1 & (\\&, <?buhiwv <-> \\$rfsatpmqt>, (\\&, drj, \\#x), (\\textasciitilde{}, \\$mx, \\$ap), <<\\^zqjniucixz <-> \\$qyulfrtg> ==> <\\$txdcqyyqpg <-> \\$o>>, (/, \\_, nexkg, \\$dusmknal)) & $\\dots$ \\\\\n",
       "\t2 & (\\textbackslash{}\\textbackslash{}, \\_, (\\textbackslash{}\\textbackslash{}, \\_, ?oktfpluw), (\\textasciitilde{}, \\^oawdzvqzd, gvpaq)) & $\\dots$ \\\\\n",
       "\t3 & <<<msnnbvl <-> \\$zep> ==> <\\#lugde <-> \\#igznxd>> ==> <<\\$f --> ?iwf> <=> <vmrhvvqa <-> pt>>> & $\\dots$ \\\\\n",
       "\t4 & (\\&, <<\\^htkvvkk --> kzpamyvym> ==> <jr <-> \\^bnblj>>, <oxqg <-> ?zlekqa>) & $\\dots$ \\\\\n",
       "\t5 & <pdal <-> (\\textbackslash{}\\textbackslash{}, csejkaex, \\#mwmyxhnwir, \\^unj, \\_)> & $\\dots$ \\\\\n",
       "\t6 & <\\^uhynts <-> ?tktu> & $\\dots$ \\\\\n",
       "\t7 & <<\\#wpsrrlcj <-> \\$ylwyu> <=> <\\#wqeg <-> \\$uztkbkq>> & $\\dots$ \\\\\n",
       "\t8 & (\\&, (/, \\_, \\^pivsyythct, \\^ytosr), <<\\^vjcto <-> ehhvt> <=> <\\#fk --> \\^ycjc>>) & $\\dots$ \\\\\n",
       "\t9 & (-, (-, sngyap, \\$skzlkxeep), \\{\\^shrbz, \\$bw\\}) & $\\dots$ \\\\\n",
       "\t10 & (\\textasciitilde{}, (\\textbackslash{}\\textbackslash{}, \\$lihsmdzer, \\_, e, \\$feodbbi), (-, ?yfgwoismj, ?vcmswpcpg)) & $\\dots$ \\\\\n",
       "\t11 & <(*, ?psynyy, \\#kirlillzo, \\^bzjompa) --> \\{\\#otpnigsk\\}> & $\\dots$ \\\\\n",
       "\t12 & (/, \\_, (/, ?hrpymkd, \\^hlmrhxzyy, \\_), (/, \\_, ?byubvchr, \\^o, \\^hchrfz, \\#bhlnzgcqy), (\\&, \\#i, \\#lvx, \\#wguskvjw), (\\textasciitilde{}, \\#dt, \\$o), (\\&, grhcs, \\$cjhgt, \\#etdu, \\^m)) & $\\dots$ \\\\\n",
       "\t13 & <<<\\^jqxqmdo --> \\^rgv> <=> <x <-> \\#dzhetvgr>> ==> <\\^sj <-> xjfh>> & $\\dots$ \\\\\n",
       "\t14 & \\{<<kenqpaxbyt --> \\$bjg> ==> <?ut <-> \\$nskaii>>, \\{\\$pmxalmt, \\$u, ?ykugzw, \\#sfvztobov\\}\\} & $\\dots$ \\\\\n",
       "\t15 & (\\textasciitilde{}, (-, ?pjsjwcu, ?qgxquqv), (\\textbackslash{}\\textbackslash{}, atopatf, \\^fjp, \\_)) & $\\dots$ \\\\\n",
       "\t16 & (\\textbackslash{}\\textbackslash{}, (*, ?kuwuilz, \\$fpbf), <<\\#w <-> \\^zkguid> <=> <?uh --> \\$u>>, \\_, (\\textbackslash{}\\textbackslash{}, \\#la, \\_)) & $\\dots$ \\\\\n",
       "\t17 & (\\textbackslash{}\\textbackslash{}, <\\^blrrqw <-> ?rnlme>, (/, \\_, \\#xksea, \\$ddbrfs, hemoq, \\^vpkv), <\\$lxtlrfpjc <-> \\$zxgnx>, (-, o, ?qrsopfonm), \\_) & $\\dots$ \\\\\n",
       "\t18 & (\\textbackslash{}\\textbackslash{}, (\\textasciitilde{}, ?fmzhjtpmok, ?mcem), (\\textbackslash{}\\textbackslash{}, \\$dfrdaevhx, \\_, \\$qfjfdhxorq, vy, \\#aipikcqqv, \\#amad), (\\textasciitilde{}, urqqutm, ameddctn), (|, \\$psxj, \\$mdrlar, srbdnb), \\_) & $\\dots$ \\\\\n",
       "\t19 & <?hffnkdpa --> vgbpqes> & $\\dots$ \\\\\n",
       "\t20 & (-, (\\textasciitilde{}, \\#s, \\#qtwvzy), (*, \\$ohiev)) & $\\dots$ \\\\\n",
       "\t21 & (-, (|, \\$osfoky, \\$xdzdqbdj), (/, \\_, ?xzb, \\^o, \\$dmfwzv)) & $\\dots$ \\\\\n",
       "\t22 & (/, (\\textbackslash{}\\textbackslash{}, ?seuenivs, ?heigdu, \\$z, \\$yzpa, \\_), \\_, (*, arqwjzb, \\^qsvgekpv, ?nigx, \\^fedvcagfn)) & $\\dots$ \\\\\n",
       "\t23 & (/, \\_, (\\textbackslash{}\\textbackslash{}, \\#owhrri, \\_, \\$pgxzq, \\^z, \\$h, ?i), (/, bkx, \\_, \\$ntkutydswf)) & $\\dots$ \\\\\n",
       "\t24 & \\{\\{\\$el, \\$auivm, \\$d\\}, (-, \\$zzay, \\$bwafly), (/, lyzjahmix, \\_), (\\textasciitilde{}, \\^e, pau), (\\&, \\#zzhzhbo)\\} & $\\dots$ \\\\\n",
       "\t$\\dots$ & $\\dots$ &  \\\\\n",
       "\\end{tabular}\n"
      ],
      "text/plain": [
       "\u001b[1m10000×4 DataFrame\u001b[0m\n",
       "\u001b[1m   Row \u001b[0m│\u001b[1m string                            \u001b[0m\u001b[1m parsed                            \u001b[0m\u001b[1m\u001b[0m ⋯\n",
       "       │\u001b[90m String                            \u001b[0m\u001b[90m Any                               \u001b[0m\u001b[90m\u001b[0m ⋯\n",
       "───────┼────────────────────────────────────────────────────────────────────────\n",
       "     1 │ (&, <?buhiwv <-> $rfsatpmqt>, (&…  (&, (/, _, nexkg, $dusmknal), (&…  ⋯\n",
       "     2 │ (\\\\, _, (\\\\, _, ?oktfpluw), (~, …  (\\\\, _, (\\\\, _, ?oktfpluw), (~, …\n",
       "     3 │ <<<msnnbvl <-> $zep> ==> <#lugde…  <<<msnnbvl <-> $zep> ==> <#lugde…\n",
       "     4 │ (&, <<^htkvvkk --> kzpamyvym> ==…  (&, <<^htkvvkk --> kzpamyvym> ==…\n",
       "     5 │ <pdal <-> (\\\\, csejkaex, #mwmyxh…  <pdal <-> (\\\\, csejkaex, #mwmyxh…  ⋯\n",
       "     6 │ <^uhynts <-> ?tktu>                <^uhynts <-> ?tktu>\n",
       "     7 │ <<#wpsrrlcj <-> $ylwyu> <=> <#wq…  <<#wpsrrlcj <-> $ylwyu> <=> <#wq…\n",
       "     8 │ (&, (/, _, ^pivsyythct, ^ytosr),…  (&, (/, _, ^pivsyythct, ^ytosr),…\n",
       "   ⋮   │                 ⋮                                  ⋮                  ⋱\n",
       "  9994 │ (\\\\, _, (&, $jaydvvydea, #ibgk, …  (\\\\, _, (&, $jaydvvydea, #ibgk, …  ⋯\n",
       "  9995 │ (-, (\\\\, ^owjjivmfvq, ?lrxqen, _…  (-, (\\\\, ^owjjivmfvq, ?lrxqen, _…\n",
       "  9996 │ (*, (\\\\, #tgvbptflsa, _, ^isgd, …  (*, (\\\\, #tgvbptflsa, _, ^isgd, …\n",
       "  9997 │ (\\\\, _, <$dxajdc <-> ?x>, {$rrpm…  (\\\\, _, <$dxajdc <-> ?x>, {$rrpm…\n",
       "  9998 │ (-, (/, _, $ypujuse), (|, #r, $r…  (-, (/, _, $ypujuse), (|, #r, $r…  ⋯\n",
       "  9999 │ (*, (-, ^xrxkvjn, #dmjfiike), {#…  (*, (-, ^xrxkvjn, #dmjfiike), {#…\n",
       " 10000 │ <$ccohleip --> (\\\\, _, $lnxltsab…  <$ccohleip --> (\\\\, _, $lnxltsab…\n",
       "\u001b[36m                                                 2 columns and 9985 rows omitted\u001b[0m"
      ]
     },
     "metadata": {},
     "output_type": "display_data"
    }
   ],
   "source": [
    "# 测试字符串解析器\n",
    "results = testParser(StringParser_ascii, test_strings)"
   ]
  },
  {
   "cell_type": "code",
   "execution_count": 101,
   "metadata": {},
   "outputs": [
    {
     "data": {
      "text/plain": [
       "\"<A-->B>\""
      ]
     },
     "metadata": {},
     "output_type": "display_data"
    }
   ],
   "source": [
    "# 导入OpenJunars\n",
    "push!(LOAD_PATH, \"../../../OpenJunars/\")\n",
    "import Junars\n",
    "\n",
    "# 测试OpenJunars\n",
    "parser = Junars.parse_term\n",
    "parser(\"<A --> B>\")"
   ]
  },
  {
   "cell_type": "code",
   "execution_count": 102,
   "metadata": {},
   "outputs": [
    {
     "data": {
      "text/plain": [
       "\"(&,(&,#x,drj),(/,_,nexkg,\\$dusmknal),(~,\\$mx,\\$ap),<\\$rfsatpmqt<->?buhiwv>,<<\\$qyulfrtg<->^zqjniucixz>==><\\$o<->\\$txdcqyyqpg>>)\""
      ]
     },
     "metadata": {},
     "output_type": "display_data"
    }
   ],
   "source": [
    "@show test_strings[1]\n",
    "test_strings[1] |> Junars.parse_term"
   ]
  },
  {
   "cell_type": "code",
   "execution_count": 103,
   "metadata": {},
   "outputs": [
    {
     "data": {
      "text/html": [
       "<div><div style = \"float: left;\"><span>10000×4 DataFrame</span></div><div style = \"float: right;\"><span style = \"font-style: italic;\">9975 rows omitted</span></div><div style = \"clear: both;\"></div></div><div class = \"data-frame\" style = \"overflow-x: scroll;\"><table class = \"data-frame\" style = \"margin-bottom: 6px;\"><thead><tr class = \"header\"><th class = \"rowNumber\" style = \"font-weight: bold; text-align: right;\">Row</th><th style = \"text-align: left;\">string</th><th style = \"text-align: left;\">parsed</th><th style = \"text-align: left;\">time</th><th style = \"text-align: left;\">error</th></tr><tr class = \"subheader headerLastRow\"><th class = \"rowNumber\" style = \"font-weight: bold; text-align: right;\"></th><th title = \"String\" style = \"text-align: left;\">String</th><th title = \"Any\" style = \"text-align: left;\">Any</th><th title = \"Union{Missing, Float64}\" style = \"text-align: left;\">Float64?</th><th title = \"Union{Missing, Exception}\" style = \"text-align: left;\">Exception?</th></tr></thead><tbody><tr><td class = \"rowNumber\" style = \"font-weight: bold; text-align: right;\">1</td><td style = \"text-align: left;\">(&amp;, &lt;?buhiwv &lt;-&gt; $rfsatpmqt&gt;, (&amp;, drj, #x), (~, $mx, $ap), &lt;&lt;^zqjniucixz &lt;-&gt; $qyulfrtg&gt; ==&gt; &lt;$txdcqyyqpg &lt;-&gt; $o&gt;&gt;, (/, _, nexkg, $dusmknal))</td><td style = \"text-align: left;\">&quot;(&amp;,(&amp;,#x,drj),(/,_,nexkg,\\\\$dusmknal),(~,\\\\$mx,\\\\$ap),&lt;\\\\$rfsatpmqt&lt;-&gt;?buhiwv&gt;,&lt;&lt;\\\\$qyulfrtg&lt;-&gt;^zqjniucixz&gt;==&gt;&lt;\\\\$o&lt;-&gt;\\\\$txdcqyyqpg&gt;&gt;)&quot;</td><td style = \"text-align: right;\">0.0002992</td><td style = \"font-style: italic; text-align: left;\">missing</td></tr><tr><td class = \"rowNumber\" style = \"font-weight: bold; text-align: right;\">2</td><td style = \"text-align: left;\">(\\\\, _, (\\\\, _, ?oktfpluw), (~, ^oawdzvqzd, gvpaq))</td><td style = \"text-align: left;\">&quot;(\\\\\\\\,_,(\\\\\\\\,_,?oktfpluw),(~,^oawdzvqzd,gvpaq))&quot;</td><td style = \"text-align: right;\">2.58e-5</td><td style = \"font-style: italic; text-align: left;\">missing</td></tr><tr><td class = \"rowNumber\" style = \"font-weight: bold; text-align: right;\">3</td><td style = \"text-align: left;\">&lt;&lt;&lt;msnnbvl &lt;-&gt; $zep&gt; ==&gt; &lt;#lugde &lt;-&gt; #igznxd&gt;&gt; ==&gt; &lt;&lt;$f --&gt; ?iwf&gt; &lt;=&gt; &lt;vmrhvvqa &lt;-&gt; pt&gt;&gt;&gt;</td><td style = \"text-align: left;\">&quot;&lt;&lt;&lt;\\\\$zep&lt;-&gt;msnnbvl&gt;==&gt;&lt;#igznxd&lt;-&gt;#lugde&gt;&gt;==&gt;&lt;&lt;\\\\$f--&gt;?iwf&gt;&lt;=&gt;&lt;pt&lt;-&gt;vmrhvvqa&gt;&gt;&gt;&quot;</td><td style = \"text-align: right;\">6.94e-5</td><td style = \"font-style: italic; text-align: left;\">missing</td></tr><tr><td class = \"rowNumber\" style = \"font-weight: bold; text-align: right;\">4</td><td style = \"text-align: left;\">(&amp;, &lt;&lt;^htkvvkk --&gt; kzpamyvym&gt; ==&gt; &lt;jr &lt;-&gt; ^bnblj&gt;&gt;, &lt;oxqg &lt;-&gt; ?zlekqa&gt;)</td><td style = \"text-align: left;\">&quot;(&amp;,&lt;&lt;^htkvvkk--&gt;kzpamyvym&gt;==&gt;&lt;^bnblj&lt;-&gt;jr&gt;&gt;,&lt;?zlekqa&lt;-&gt;oxqg&gt;)&quot;</td><td style = \"text-align: right;\">3.68e-5</td><td style = \"font-style: italic; text-align: left;\">missing</td></tr><tr><td class = \"rowNumber\" style = \"font-weight: bold; text-align: right;\">5</td><td style = \"text-align: left;\">&lt;pdal &lt;-&gt; (\\\\, csejkaex, #mwmyxhnwir, ^unj, _)&gt;</td><td style = \"text-align: left;\">&quot;&lt;(\\\\\\\\,csejkaex,#mwmyxhnwir,^unj,_)&lt;-&gt;pdal&gt;&quot;</td><td style = \"text-align: right;\">5.22e-5</td><td style = \"font-style: italic; text-align: left;\">missing</td></tr><tr><td class = \"rowNumber\" style = \"font-weight: bold; text-align: right;\">6</td><td style = \"text-align: left;\">&lt;^uhynts &lt;-&gt; ?tktu&gt;</td><td style = \"text-align: left;\">&quot;&lt;?tktu&lt;-&gt;^uhynts&gt;&quot;</td><td style = \"text-align: right;\">4.2e-6</td><td style = \"font-style: italic; text-align: left;\">missing</td></tr><tr><td class = \"rowNumber\" style = \"font-weight: bold; text-align: right;\">7</td><td style = \"text-align: left;\">&lt;&lt;#wpsrrlcj &lt;-&gt; $ylwyu&gt; &lt;=&gt; &lt;#wqeg &lt;-&gt; $uztkbkq&gt;&gt;</td><td style = \"text-align: left;\">&quot;&lt;&lt;#wpsrrlcj&lt;-&gt;\\\\$ylwyu&gt;&lt;=&gt;&lt;#wqeg&lt;-&gt;\\\\$uztkbkq&gt;&gt;&quot;</td><td style = \"text-align: right;\">2.38e-5</td><td style = \"font-style: italic; text-align: left;\">missing</td></tr><tr><td class = \"rowNumber\" style = \"font-weight: bold; text-align: right;\">8</td><td style = \"text-align: left;\">(&amp;, (/, _, ^pivsyythct, ^ytosr), &lt;&lt;^vjcto &lt;-&gt; ehhvt&gt; &lt;=&gt; &lt;#fk --&gt; ^ycjc&gt;&gt;)</td><td style = \"text-align: left;\">&quot;(&amp;,(/,_,^pivsyythct,^ytosr),&lt;&lt;#fk--&gt;^ycjc&gt;&lt;=&gt;&lt;^vjcto&lt;-&gt;ehhvt&gt;&gt;)&quot;</td><td style = \"text-align: right;\">5.6e-5</td><td style = \"font-style: italic; text-align: left;\">missing</td></tr><tr><td class = \"rowNumber\" style = \"font-weight: bold; text-align: right;\">9</td><td style = \"text-align: left;\">(-, (-, sngyap, $skzlkxeep), {^shrbz, $bw})</td><td style = \"text-align: left;\">&quot;(-,(-,sngyap,\\\\$skzlkxeep),{\\\\$bw,^shrbz})&quot;</td><td style = \"text-align: right;\">2.37e-5</td><td style = \"font-style: italic; text-align: left;\">missing</td></tr><tr><td class = \"rowNumber\" style = \"font-weight: bold; text-align: right;\">10</td><td style = \"text-align: left;\">(~, (\\\\, $lihsmdzer, _, e, $feodbbi), (-, ?yfgwoismj, ?vcmswpcpg))</td><td style = \"text-align: left;\">&quot;(~,(\\\\\\\\,\\\\$lihsmdzer,_,e,\\\\$feodbbi),(-,?yfgwoismj,?vcmswpcpg))&quot;</td><td style = \"text-align: right;\">2.29e-5</td><td style = \"font-style: italic; text-align: left;\">missing</td></tr><tr><td class = \"rowNumber\" style = \"font-weight: bold; text-align: right;\">11</td><td style = \"text-align: left;\">&lt;(*, ?psynyy, #kirlillzo, ^bzjompa) --&gt; {#otpnigsk}&gt;</td><td style = \"text-align: left;\">&quot;&lt;(*,?psynyy,#kirlillzo,^bzjompa)--&gt;{#otpnigsk}&gt;&quot;</td><td style = \"text-align: right;\">4.75e-5</td><td style = \"font-style: italic; text-align: left;\">missing</td></tr><tr><td class = \"rowNumber\" style = \"font-weight: bold; text-align: right;\">12</td><td style = \"text-align: left;\">(/, _, (/, ?hrpymkd, ^hlmrhxzyy, _), (/, _, ?byubvchr, ^o, ^hchrfz, #bhlnzgcqy), (&amp;, #i, #lvx, #wguskvjw), (~, #dt, $o), (&amp;, grhcs, $cjhgt, #etdu, ^m))</td><td style = \"text-align: left;\">&quot;(/,_,(/,?hrpymkd,^hlmrhxzyy,_),(/,_,?byubvchr,^o,^hchrfz,#bhlnzgcqy),(&amp;,#i,#lvx,#wguskvjw),(~,#dt,\\\\$o),(&amp;,#etdu,\\\\$cjhgt,^m,grhcs))&quot;</td><td style = \"text-align: right;\">5.44e-5</td><td style = \"font-style: italic; text-align: left;\">missing</td></tr><tr><td class = \"rowNumber\" style = \"font-weight: bold; text-align: right;\">13</td><td style = \"text-align: left;\">&lt;&lt;&lt;^jqxqmdo --&gt; ^rgv&gt; &lt;=&gt; &lt;x &lt;-&gt; #dzhetvgr&gt;&gt; ==&gt; &lt;^sj &lt;-&gt; xjfh&gt;&gt;</td><td style = \"text-align: left;\">&quot;&lt;&lt;&lt;#dzhetvgr&lt;-&gt;x&gt;&lt;=&gt;&lt;^jqxqmdo--&gt;^rgv&gt;&gt;==&gt;&lt;^sj&lt;-&gt;xjfh&gt;&gt;&quot;</td><td style = \"text-align: right;\">3.78e-5</td><td style = \"font-style: italic; text-align: left;\">missing</td></tr><tr><td style = \"text-align: right;\">&vellip;</td><td style = \"text-align: right;\">&vellip;</td><td style = \"text-align: right;\">&vellip;</td><td style = \"text-align: right;\">&vellip;</td><td style = \"text-align: right;\">&vellip;</td></tr><tr><td class = \"rowNumber\" style = \"font-weight: bold; text-align: right;\">9989</td><td style = \"text-align: left;\">&lt;(-, pbatkt, ?z) &lt;-&gt; #rwquralqyh&gt;</td><td style = \"text-align: left;\">&quot;&lt;#rwquralqyh&lt;-&gt;(-,pbatkt,?z)&gt;&quot;</td><td style = \"text-align: right;\">1.05e-5</td><td style = \"font-style: italic; text-align: left;\">missing</td></tr><tr><td class = \"rowNumber\" style = \"font-weight: bold; text-align: right;\">9990</td><td style = \"text-align: left;\">(\\\\, _, (-, #ylnt, wfbfw))</td><td style = \"text-align: left;\">&quot;(\\\\\\\\,_,(-,#ylnt,wfbfw))&quot;</td><td style = \"text-align: right;\">8.1e-6</td><td style = \"font-style: italic; text-align: left;\">missing</td></tr><tr><td class = \"rowNumber\" style = \"font-weight: bold; text-align: right;\">9991</td><td style = \"text-align: left;\">(~, (~, #hwbylwd, #ivfxh), (-, ^pulst, ^guhnkzrhkd))</td><td style = \"text-align: left;\">&quot;(~,(~,#hwbylwd,#ivfxh),(-,^pulst,^guhnkzrhkd))&quot;</td><td style = \"text-align: right;\">1.87e-5</td><td style = \"font-style: italic; text-align: left;\">missing</td></tr><tr><td class = \"rowNumber\" style = \"font-weight: bold; text-align: right;\">9992</td><td style = \"text-align: left;\">(~, &lt;kbus &lt;-&gt; ^qbelubpkwi&gt;, (\\\\, #sfae, parushy, d, _))</td><td style = \"text-align: left;\">&quot;(~,&lt;^qbelubpkwi&lt;-&gt;kbus&gt;,(\\\\\\\\,#sfae,parushy,d,_))&quot;</td><td style = \"text-align: right;\">1.88e-5</td><td style = \"font-style: italic; text-align: left;\">missing</td></tr><tr><td class = \"rowNumber\" style = \"font-weight: bold; text-align: right;\">9993</td><td style = \"text-align: left;\">&lt;clwbu &lt;-&gt; #dkgyxzsixx&gt;</td><td style = \"text-align: left;\">&quot;&lt;#dkgyxzsixx&lt;-&gt;clwbu&gt;&quot;</td><td style = \"text-align: right;\">4.4e-6</td><td style = \"font-style: italic; text-align: left;\">missing</td></tr><tr><td class = \"rowNumber\" style = \"font-weight: bold; text-align: right;\">9994</td><td style = \"text-align: left;\">(\\\\, _, (&amp;, $jaydvvydea, #ibgk, sjz), &lt;ynqwpx &lt;-&gt; #u&gt;, (\\\\, ^vlel, ?oiwxjwoubs, $vuxwrf, $loreljl, ^knrsijakl, _), (~, $osrlhrse, ?hksf), (*, $qjtxhvhwq, ?ux, ?afh, ?rogmlgsw, llpn))</td><td style = \"text-align: left;\">&quot;(\\\\\\\\,_,(&amp;,#ibgk,\\\\$jaydvvydea,sjz),&lt;#u&lt;-&gt;ynqwpx&gt;,(\\\\\\\\,^vlel,?oiwxjwoubs,\\\\$vuxwrf,\\\\$loreljl,^knrsijakl,_),(~,\\\\$osrlhrse,?hksf),(*,\\\\$qjtxhvhwq,?ux,?afh,?rogmlgsw,llpn))&quot;</td><td style = \"text-align: right;\">4.88e-5</td><td style = \"font-style: italic; text-align: left;\">missing</td></tr><tr><td class = \"rowNumber\" style = \"font-weight: bold; text-align: right;\">9995</td><td style = \"text-align: left;\">(-, (\\\\, ^owjjivmfvq, ?lrxqen, _, m), (-, i, ?vwkxzf))</td><td style = \"text-align: left;\">&quot;(-,(\\\\\\\\,^owjjivmfvq,?lrxqen,_,m),(-,i,?vwkxzf))&quot;</td><td style = \"text-align: right;\">1.72e-5</td><td style = \"font-style: italic; text-align: left;\">missing</td></tr><tr><td class = \"rowNumber\" style = \"font-weight: bold; text-align: right;\">9996</td><td style = \"text-align: left;\">(*, (\\\\, #tgvbptflsa, _, ^isgd, #hjkyzwtuw, ^funquurvz, axgpotyflm), (\\\\, ^ojbfefqcaa, $fyziyp, ?bobu, cpxjzfavnk, _), (-, ?blaophh, $vaa))</td><td style = \"text-align: left;\">&quot;(*,(\\\\\\\\,#tgvbptflsa,_,^isgd,#hjkyzwtuw,^funquurvz,axgpotyflm),(\\\\\\\\,^ojbfefqcaa,\\\\$fyziyp,?bobu,cpxjzfavnk,_),(-,?blaophh,\\\\$vaa))&quot;</td><td style = \"text-align: right;\">3.04e-5</td><td style = \"font-style: italic; text-align: left;\">missing</td></tr><tr><td class = \"rowNumber\" style = \"font-weight: bold; text-align: right;\">9997</td><td style = \"text-align: left;\">(\\\\, _, &lt;$dxajdc &lt;-&gt; ?x&gt;, {$rrpm, srt}, (&amp;, ^kxbcc, $iq), {#vbdfmij, ?vlgtnasrqr, ?ubnrvemlmy, ^hmwmnqywgs}, &lt;#tnym --&gt; ^v&gt;)</td><td style = \"text-align: left;\">&quot;(\\\\\\\\,_,&lt;\\\\$dxajdc&lt;-&gt;?x&gt;,{\\\\$rrpm,srt},(&amp;,\\\\$iq,^kxbcc),{#vbdfmij,?ubnrvemlmy,?vlgtnasrqr,^hmwmnqywgs},&lt;#tnym--&gt;^v&gt;)&quot;</td><td style = \"text-align: right;\">3.79e-5</td><td style = \"font-style: italic; text-align: left;\">missing</td></tr><tr><td class = \"rowNumber\" style = \"font-weight: bold; text-align: right;\">9998</td><td style = \"text-align: left;\">(-, (/, _, $ypujuse), (|, #r, $rvlu, icc))</td><td style = \"text-align: left;\">&quot;(-,(/,_,\\\\$ypujuse),(|,#r,\\\\$rvlu,icc))&quot;</td><td style = \"text-align: right;\">1.84e-5</td><td style = \"font-style: italic; text-align: left;\">missing</td></tr><tr><td class = \"rowNumber\" style = \"font-weight: bold; text-align: right;\">9999</td><td style = \"text-align: left;\">(*, (-, ^xrxkvjn, #dmjfiike), {#gcwpwjm, $mhd}, &lt;#rtnhyqeqcd --&gt; ^fbrne&gt;, (~, sn, f), (~, ?kq, ?mozxeatp))</td><td style = \"text-align: left;\">&quot;(*,(-,^xrxkvjn,#dmjfiike),{#gcwpwjm,\\\\$mhd},&lt;#rtnhyqeqcd--&gt;^fbrne&gt;,(~,sn,f),(~,?kq,?mozxeatp))&quot;</td><td style = \"text-align: right;\">3.15e-5</td><td style = \"font-style: italic; text-align: left;\">missing</td></tr><tr><td class = \"rowNumber\" style = \"font-weight: bold; text-align: right;\">10000</td><td style = \"text-align: left;\">&lt;$ccohleip --&gt; (\\\\, _, $lnxltsabw, ?stwwcpdyj, ^avuxj, $eq)&gt;</td><td style = \"text-align: left;\">&quot;&lt;\\\\$ccohleip--&gt;(\\\\\\\\,_,\\\\$lnxltsabw,?stwwcpdyj,^avuxj,\\\\$eq)&gt;&quot;</td><td style = \"text-align: right;\">3.14e-5</td><td style = \"font-style: italic; text-align: left;\">missing</td></tr></tbody></table></div>"
      ],
      "text/latex": [
       "\\begin{tabular}{r|cc}\n",
       "\t& string & \\\\\n",
       "\t\\hline\n",
       "\t& String & \\\\\n",
       "\t\\hline\n",
       "\t1 & (\\&, <?buhiwv <-> \\$rfsatpmqt>, (\\&, drj, \\#x), (\\textasciitilde{}, \\$mx, \\$ap), <<\\^zqjniucixz <-> \\$qyulfrtg> ==> <\\$txdcqyyqpg <-> \\$o>>, (/, \\_, nexkg, \\$dusmknal)) & $\\dots$ \\\\\n",
       "\t2 & (\\textbackslash{}\\textbackslash{}, \\_, (\\textbackslash{}\\textbackslash{}, \\_, ?oktfpluw), (\\textasciitilde{}, \\^oawdzvqzd, gvpaq)) & $\\dots$ \\\\\n",
       "\t3 & <<<msnnbvl <-> \\$zep> ==> <\\#lugde <-> \\#igznxd>> ==> <<\\$f --> ?iwf> <=> <vmrhvvqa <-> pt>>> & $\\dots$ \\\\\n",
       "\t4 & (\\&, <<\\^htkvvkk --> kzpamyvym> ==> <jr <-> \\^bnblj>>, <oxqg <-> ?zlekqa>) & $\\dots$ \\\\\n",
       "\t5 & <pdal <-> (\\textbackslash{}\\textbackslash{}, csejkaex, \\#mwmyxhnwir, \\^unj, \\_)> & $\\dots$ \\\\\n",
       "\t6 & <\\^uhynts <-> ?tktu> & $\\dots$ \\\\\n",
       "\t7 & <<\\#wpsrrlcj <-> \\$ylwyu> <=> <\\#wqeg <-> \\$uztkbkq>> & $\\dots$ \\\\\n",
       "\t8 & (\\&, (/, \\_, \\^pivsyythct, \\^ytosr), <<\\^vjcto <-> ehhvt> <=> <\\#fk --> \\^ycjc>>) & $\\dots$ \\\\\n",
       "\t9 & (-, (-, sngyap, \\$skzlkxeep), \\{\\^shrbz, \\$bw\\}) & $\\dots$ \\\\\n",
       "\t10 & (\\textasciitilde{}, (\\textbackslash{}\\textbackslash{}, \\$lihsmdzer, \\_, e, \\$feodbbi), (-, ?yfgwoismj, ?vcmswpcpg)) & $\\dots$ \\\\\n",
       "\t11 & <(*, ?psynyy, \\#kirlillzo, \\^bzjompa) --> \\{\\#otpnigsk\\}> & $\\dots$ \\\\\n",
       "\t12 & (/, \\_, (/, ?hrpymkd, \\^hlmrhxzyy, \\_), (/, \\_, ?byubvchr, \\^o, \\^hchrfz, \\#bhlnzgcqy), (\\&, \\#i, \\#lvx, \\#wguskvjw), (\\textasciitilde{}, \\#dt, \\$o), (\\&, grhcs, \\$cjhgt, \\#etdu, \\^m)) & $\\dots$ \\\\\n",
       "\t13 & <<<\\^jqxqmdo --> \\^rgv> <=> <x <-> \\#dzhetvgr>> ==> <\\^sj <-> xjfh>> & $\\dots$ \\\\\n",
       "\t14 & \\{<<kenqpaxbyt --> \\$bjg> ==> <?ut <-> \\$nskaii>>, \\{\\$pmxalmt, \\$u, ?ykugzw, \\#sfvztobov\\}\\} & $\\dots$ \\\\\n",
       "\t15 & (\\textasciitilde{}, (-, ?pjsjwcu, ?qgxquqv), (\\textbackslash{}\\textbackslash{}, atopatf, \\^fjp, \\_)) & $\\dots$ \\\\\n",
       "\t16 & (\\textbackslash{}\\textbackslash{}, (*, ?kuwuilz, \\$fpbf), <<\\#w <-> \\^zkguid> <=> <?uh --> \\$u>>, \\_, (\\textbackslash{}\\textbackslash{}, \\#la, \\_)) & $\\dots$ \\\\\n",
       "\t17 & (\\textbackslash{}\\textbackslash{}, <\\^blrrqw <-> ?rnlme>, (/, \\_, \\#xksea, \\$ddbrfs, hemoq, \\^vpkv), <\\$lxtlrfpjc <-> \\$zxgnx>, (-, o, ?qrsopfonm), \\_) & $\\dots$ \\\\\n",
       "\t18 & (\\textbackslash{}\\textbackslash{}, (\\textasciitilde{}, ?fmzhjtpmok, ?mcem), (\\textbackslash{}\\textbackslash{}, \\$dfrdaevhx, \\_, \\$qfjfdhxorq, vy, \\#aipikcqqv, \\#amad), (\\textasciitilde{}, urqqutm, ameddctn), (|, \\$psxj, \\$mdrlar, srbdnb), \\_) & $\\dots$ \\\\\n",
       "\t19 & <?hffnkdpa --> vgbpqes> & $\\dots$ \\\\\n",
       "\t20 & (-, (\\textasciitilde{}, \\#s, \\#qtwvzy), (*, \\$ohiev)) & $\\dots$ \\\\\n",
       "\t21 & (-, (|, \\$osfoky, \\$xdzdqbdj), (/, \\_, ?xzb, \\^o, \\$dmfwzv)) & $\\dots$ \\\\\n",
       "\t22 & (/, (\\textbackslash{}\\textbackslash{}, ?seuenivs, ?heigdu, \\$z, \\$yzpa, \\_), \\_, (*, arqwjzb, \\^qsvgekpv, ?nigx, \\^fedvcagfn)) & $\\dots$ \\\\\n",
       "\t23 & (/, \\_, (\\textbackslash{}\\textbackslash{}, \\#owhrri, \\_, \\$pgxzq, \\^z, \\$h, ?i), (/, bkx, \\_, \\$ntkutydswf)) & $\\dots$ \\\\\n",
       "\t24 & \\{\\{\\$el, \\$auivm, \\$d\\}, (-, \\$zzay, \\$bwafly), (/, lyzjahmix, \\_), (\\textasciitilde{}, \\^e, pau), (\\&, \\#zzhzhbo)\\} & $\\dots$ \\\\\n",
       "\t$\\dots$ & $\\dots$ &  \\\\\n",
       "\\end{tabular}\n"
      ],
      "text/plain": [
       "\u001b[1m10000×4 DataFrame\u001b[0m\n",
       "\u001b[1m   Row \u001b[0m│\u001b[1m string                            \u001b[0m\u001b[1m parsed                            \u001b[0m\u001b[1m\u001b[0m ⋯\n",
       "       │\u001b[90m String                            \u001b[0m\u001b[90m Any                               \u001b[0m\u001b[90m\u001b[0m ⋯\n",
       "───────┼────────────────────────────────────────────────────────────────────────\n",
       "     1 │ (&, <?buhiwv <-> $rfsatpmqt>, (&…  \"(&,(&,#x,drj),(/,_,nexkg,\\\\$dus…  ⋯\n",
       "     2 │ (\\\\, _, (\\\\, _, ?oktfpluw), (~, …  \"(\\\\\\\\,_,(\\\\\\\\,_,?oktfpluw),(~,^…\n",
       "     3 │ <<<msnnbvl <-> $zep> ==> <#lugde…  \"<<<\\\\$zep<->msnnbvl>==><#igznxd…\n",
       "     4 │ (&, <<^htkvvkk --> kzpamyvym> ==…  \"(&,<<^htkvvkk-->kzpamyvym>==><^…\n",
       "     5 │ <pdal <-> (\\\\, csejkaex, #mwmyxh…  \"<(\\\\\\\\,csejkaex,#mwmyxhnwir,^un…  ⋯\n",
       "     6 │ <^uhynts <-> ?tktu>                \"<?tktu<->^uhynts>\"\n",
       "     7 │ <<#wpsrrlcj <-> $ylwyu> <=> <#wq…  \"<<#wpsrrlcj<->\\\\$ylwyu><=><#wqe…\n",
       "     8 │ (&, (/, _, ^pivsyythct, ^ytosr),…  \"(&,(/,_,^pivsyythct,^ytosr),<<#…\n",
       "   ⋮   │                 ⋮                                  ⋮                  ⋱\n",
       "  9994 │ (\\\\, _, (&, $jaydvvydea, #ibgk, …  \"(\\\\\\\\,_,(&,#ibgk,\\\\$jaydvvydea,…  ⋯\n",
       "  9995 │ (-, (\\\\, ^owjjivmfvq, ?lrxqen, _…  \"(-,(\\\\\\\\,^owjjivmfvq,?lrxqen,_,…\n",
       "  9996 │ (*, (\\\\, #tgvbptflsa, _, ^isgd, …  \"(*,(\\\\\\\\,#tgvbptflsa,_,^isgd,#h…\n",
       "  9997 │ (\\\\, _, <$dxajdc <-> ?x>, {$rrpm…  \"(\\\\\\\\,_,<\\\\$dxajdc<->?x>,{\\\\$rr…\n",
       "  9998 │ (-, (/, _, $ypujuse), (|, #r, $r…  \"(-,(/,_,\\\\$ypujuse),(|,#r,\\\\$rv…  ⋯\n",
       "  9999 │ (*, (-, ^xrxkvjn, #dmjfiike), {#…  \"(*,(-,^xrxkvjn,#dmjfiike),{#gcw…\n",
       " 10000 │ <$ccohleip --> (\\\\, _, $lnxltsab…  \"<\\\\$ccohleip-->(\\\\\\\\,_,\\\\$lnxlt…\n",
       "\u001b[36m                                                 2 columns and 9985 rows omitted\u001b[0m"
      ]
     },
     "metadata": {},
     "output_type": "display_data"
    }
   ],
   "source": [
    "testParser(Junars.parse_term, test_strings)"
   ]
  },
  {
   "cell_type": "markdown",
   "metadata": {},
   "source": [
    "## 对比性评估开始"
   ]
  },
  {
   "cell_type": "code",
   "execution_count": 104,
   "metadata": {},
   "outputs": [
    {
     "data": {
      "text/plain": [
       "Dict{Any, Any} with 2 entries:\n",
       "  parse_term         => \u001b[1m50000×4 DataFrame\u001b[0m\u001b[0m…\n",
       "  StringParser_ascii => \u001b[1m50000×4 DataFrame\u001b[0m\u001b[0m…"
      ]
     },
     "metadata": {},
     "output_type": "display_data"
    }
   ],
   "source": [
    "# 设立一个包括所有解析器(可调用对象)的数组，遍历这个数组用同样的测试集测试每一个解析器，将解析结果存储在“解析器 => 解析结果”的字典中，展示该字典\n",
    "parser_list = [\n",
    "    StringParser_ascii, \n",
    "    Junars.parse_term\n",
    "]\n",
    "\n",
    "results = Dict{Any, Any}()\n",
    "\n",
    "N = 500\n",
    "for parser in parser_list\n",
    "    results[parser] = testParser(\n",
    "        parser, \n",
    "        test_strings, \n",
    "        N\n",
    "    )\n",
    "end\n",
    "\n",
    "results # Excessive output truncated after 951830 bytes."
   ]
  },
  {
   "cell_type": "markdown",
   "metadata": {},
   "source": [
    "## 比对结果分析、展示"
   ]
  },
  {
   "cell_type": "code",
   "execution_count": 108,
   "metadata": {},
   "outputs": [],
   "source": [
    "# 使用@show展示字典里面的每一个元素，展开展示里面的测试结果\n",
    "# 打印结果\n",
    "for result in results\n",
    "    result.first, result.second\n",
    "    for r in eachcol(result.second)\n",
    "        if r isa Union{Array, Tuple, Dict} && length(r) > 100\n",
    "            continue\n",
    "        end\n",
    "        println(\"$(result.first) => \\n$r\")\n",
    "    end\n",
    "end"
   ]
  },
  {
   "cell_type": "code",
   "execution_count": 106,
   "metadata": {},
   "outputs": [],
   "source": [
    "using CairoMakie"
   ]
  },
  {
   "cell_type": "code",
   "execution_count": 123,
   "metadata": {},
   "outputs": [
    {
     "data": {
      "text/plain": [
       "Dict{Any, String} with 2 entries:\n",
       "  parse_term         => \"Junars\"\n",
       "  StringParser_ascii => \"JuNarsese\""
      ]
     },
     "metadata": {},
     "output_type": "display_data"
    }
   ],
   "source": [
    "parser_names = Dict(\n",
    "    Junars.parse_term => \"Junars\",\n",
    "    StringParser_ascii => \"JuNarsese\"\n",
    ")"
   ]
  },
  {
   "cell_type": "code",
   "execution_count": 132,
   "metadata": {},
   "outputs": [
    {
     "ename": "ErrorException",
     "evalue": "Found invalid y-limits (0.0f0, 0.0310802f0) for scale log10 which is defined on the interval 0.0 .. Inf (open)",
     "output_type": "error",
     "traceback": [
      "Found invalid y-limits (0.0f0, 0.0310802f0) for scale log10 which is defined on the interval 0.0 .. Inf (open)\n",
      "\n",
      "Stacktrace:\n",
      "  [1] error(s::String)\n",
      "    @ Base .\\error.jl:35\n",
      "  [2] autolimits(ax::Axis, dim::Int64)\n",
      "    @ Makie C:\\Users\\56506\\.julia\\packages\\Makie\\uAmck\\src\\makielayout\\blocks\\axis.jl:964\n",
      "  [3] yautolimits\n",
      "    @ C:\\Users\\56506\\.julia\\packages\\Makie\\uAmck\\src\\makielayout\\blocks\\axis.jl:977 [inlined]\n",
      "  [4] reset_limits!(ax::Axis; xauto::Bool, yauto::Bool, zauto::Bool)\n",
      "    @ Makie C:\\Users\\56506\\.julia\\packages\\Makie\\uAmck\\src\\makielayout\\blocks\\axis.jl:592\n",
      "  [5] reset_limits!\n",
      "    @ C:\\Users\\56506\\.julia\\packages\\Makie\\uAmck\\src\\makielayout\\blocks\\axis.jl:563 [inlined]\n",
      "  [6] (::Makie.var\"#1378#1408\"{Axis})(#unused#::Function, #unused#::Function)\n",
      "    @ Makie C:\\Users\\56506\\.julia\\packages\\Makie\\uAmck\\src\\makielayout\\blocks\\axis.jl:184\n",
      "  [7] invokelatest(::Any, ::Any, ::Vararg{Any}; kwargs::Base.Pairs{Symbol, Union{}, Tuple{}, NamedTuple{(), Tuple{}}})\n",
      "    @ Base .\\essentials.jl:816\n",
      "  [8] invokelatest(::Any, ::Any, ::Vararg{Any})\n",
      "    @ Base .\\essentials.jl:813\n",
      "  [9] (::Observables.OnAny)(value::Any)\n",
      "    @ Observables C:\\Users\\56506\\.julia\\packages\\Observables\\PHGQ8\\src\\Observables.jl:415\n",
      " [10] #invokelatest#2\n",
      "    @ .\\essentials.jl:816 [inlined]\n",
      " [11] invokelatest\n",
      "    @ .\\essentials.jl:813 [inlined]\n",
      " [12] notify\n",
      "    @ C:\\Users\\56506\\.julia\\packages\\Observables\\PHGQ8\\src\\Observables.jl:169 [inlined]\n",
      " [13] setindex!(observable::Observable, val::Any)\n",
      "    @ Observables C:\\Users\\56506\\.julia\\packages\\Observables\\PHGQ8\\src\\Observables.jl:86\n",
      " [14] setproperty!(x::Axis, key::Symbol, value::Function)\n",
      "    @ Makie C:\\Users\\56506\\.julia\\packages\\Makie\\uAmck\\src\\makielayout\\blocks.jl:445\n",
      " [15] top-level scope\n",
      "    @ h:\\A137442\\Develop\\AGI\\NARS\\_Project\\JuNarseseParsers\\test\\comparative_tests.ipynb:32"
     ]
    }
   ],
   "source": [
    "# 使用CairoMakie打印其中的「解析时间线」\n",
    "fig = Figure()\n",
    "ax = Axis(fig[1, 1])\n",
    "for (parser, result) in results\n",
    "    xs = 1:length(result.time)\n",
    "    ys = replace!(result.time, missing => 0)\n",
    "    sl = scatterlines!(\n",
    "        ax, xs, ys;\n",
    "        label = parser_names[parser],\n",
    "        # color = :black,\n",
    "        linewidth = 0,\n",
    "        markersize = 5,\n",
    "    )\n",
    "    @show sl[2]\n",
    "    # 绘制均值一条线\n",
    "    mean_ys = sum(ys) / length(ys)\n",
    "    mean_ys = mean_ys * ones(length(ys))\n",
    "    lines!(\n",
    "        ax, xs, mean_ys; \n",
    "        # color = :black, \n",
    "        linewidth = 1\n",
    "    )\n",
    "    # xlabel!(ax, \"序号\")\n",
    "    # ylabel!(ax, \"每一批次的解析时间(秒)\")\n",
    "    # title!(ax, \"每一批次的解析时间变化\")\n",
    "    # fig[1, 2] = Legend(fig, ax, string(parser))\n",
    "end\n",
    "axislegend(\"解析器类型\"; position=:rt)\n",
    "# xlims!(ax, 0, 0.005)\n",
    "# ylims!(ax, 0, 1)\n",
    "# xscale!(ax, log10)\n",
    "# yscale!(ax, log10)\n",
    "ax.yscale = log10\n",
    "ax.ylom = log10\n",
    "# xgrid!(ax)\n",
    "# ygrid!(ax)\n",
    "\n",
    "current_figure()"
   ]
  },
  {
   "cell_type": "code",
   "execution_count": 125,
   "metadata": {},
   "outputs": [
    {
     "data": {
      "image/png": "[encoded data removed]"
     },
     "metadata": {},
     "output_type": "display_data"
    }
   ],
   "source": [
    "# 使用CairoMakie打印其中的「解析时间线」\n",
    "fig = Figure()\n",
    "ax = Axis(fig[1, 1])\n",
    "for (parser, result) in results\n",
    "    xs = 1:length(result.time)\n",
    "    ys = replace!(result.time, missing => 0)\n",
    "    mean_ys = sum(ys) / length(ys)\n",
    "    mean_ys = mean_ys * ones(length(ys))\n",
    "    lines!(\n",
    "        ax, xs, mean_ys; \n",
    "        # color = :black, \n",
    "        linewidth = 1\n",
    "    )\n",
    "    # xlabel!(ax, \"序号\")\n",
    "    # ylabel!(ax, \"每一批次的解析时间(秒)\")\n",
    "    # title!(ax, \"每一批次的解析时间变化\")\n",
    "    # fig[1, 2] = Legend(fig, ax, string(parser))\n",
    "end\n",
    "# axislegend(\"legend\"; position=:rt)\n",
    "# xlims!(ax, 0, 0.005)\n",
    "# ylims!(ax, 0, 1)\n",
    "# xscale!(ax, log10)\n",
    "# yscale!(ax, log10)\n",
    "# xgrid!(ax)\n",
    "# ygrid!(ax)\n",
    "\n",
    "current_figure()"
   ]
  }
 ],
 "metadata": {
  "kernelspec": {
   "display_name": "Julia 1.9.1",
   "language": "julia",
   "name": "julia-1.9"
  },
  "language_info": {
   "file_extension": ".jl",
   "mimetype": "application/julia",
   "name": "julia",
   "version": "1.9.1"
  },
  "orig_nbformat": 4
 },
 "nbformat": 4,
 "nbformat_minor": 2
}
